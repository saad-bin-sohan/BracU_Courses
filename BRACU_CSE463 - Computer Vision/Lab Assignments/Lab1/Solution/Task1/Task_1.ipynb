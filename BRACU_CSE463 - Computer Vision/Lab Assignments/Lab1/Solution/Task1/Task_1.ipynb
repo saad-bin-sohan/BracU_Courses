{
 "cells": [
  {
   "cell_type": "code",
   "execution_count": 1,
   "metadata": {
    "execution": {
     "iopub.execute_input": "2025-03-02T16:24:35.551047Z",
     "iopub.status.busy": "2025-03-02T16:24:35.550761Z",
     "iopub.status.idle": "2025-03-02T16:24:35.943609Z",
     "shell.execute_reply": "2025-03-02T16:24:35.942442Z",
     "shell.execute_reply.started": "2025-03-02T16:24:35.551014Z"
    },
    "trusted": true
   },
   "outputs": [],
   "source": [
    "import cv2\n",
    "import numpy as np\n",
    "import matplotlib.pyplot as plt\n",
    "import glob\n",
    "import os"
   ]
  },
  {
   "cell_type": "code",
   "execution_count": null,
   "metadata": {
    "execution": {
     "iopub.execute_input": "2025-03-02T16:24:35.948550Z",
     "iopub.status.busy": "2025-03-02T16:24:35.948120Z",
     "iopub.status.idle": "2025-03-02T16:24:36.229498Z",
     "shell.execute_reply": "2025-03-02T16:24:36.228387Z",
     "shell.execute_reply.started": "2025-03-02T16:24:35.948511Z"
    },
    "trusted": true
   },
   "outputs": [
    {
     "data": {
      "image/png": "[encoded data removed]",
      "text/plain": [
       "<Figure size 1000x400 with 1 Axes>"
      ]
     },
     "metadata": {},
     "output_type": "display_data"
    }
   ],
   "source": [
    "name = \"SOHAN\"\n",
    "id_number = \"04\"\n",
    "\n",
    "code = name[:2].upper() + id_number[-2:]\n",
    "\n",
    "Letter_S = np.array([\n",
    "    [255, 0, 0, 0, 255],\n",
    "    [255, 0, 255, 255, 255],\n",
    "    [255, 0, 0, 0, 255],\n",
    "    [255, 255, 255, 0, 255],\n",
    "    [255, 0, 0, 0, 255]\n",
    "])\n",
    "\n",
    "Letter_O = np.array([\n",
    "    [255, 0, 0, 0, 255],\n",
    "    [255, 0, 255, 0, 255],\n",
    "    [255, 0, 255, 0, 255],\n",
    "    [255, 0, 255, 0, 255],\n",
    "    [255, 0, 0, 0, 255]\n",
    "])\n",
    "\n",
    "Number_0 = np.array([\n",
    "    [255, 0, 0, 0, 255],\n",
    "    [255, 0, 255, 0, 255],\n",
    "    [255, 0, 255, 0, 255],\n",
    "    [255, 0, 255, 0, 255],\n",
    "    [255, 0, 0, 0, 255]\n",
    "])\n",
    "\n",
    "Number_4 = np.array([\n",
    "    [0, 255, 255, 0, 255],\n",
    "    [0, 255, 255, 0, 255],\n",
    "    [0, 0, 0, 0, 255],\n",
    "    [255, 255, 255, 0, 255],\n",
    "    [255, 255, 255, 0, 255]\n",
    "])\n",
    "\n",
    "space = np.ones((5, 2)) * 255\n",
    "\n",
    "code_image = np.hstack((Letter_S, space, Letter_O, space, Number_0, space, Number_4))\n",
    "\n",
    "plt.figure(figsize=(10, 4))\n",
    "plt.imshow(code_image, cmap='gray')\n",
    "plt.title(f'Grayscale Image of Code:: {code}')\n",
    "plt.axis('off')\n",
    "plt.show()"
   ]
  }
 ],
 "metadata": {
  "kaggle": {
   "accelerator": "none",
   "dataSources": [],
   "dockerImageVersionId": 30918,
   "isGpuEnabled": false,
   "isInternetEnabled": true,
   "language": "python",
   "sourceType": "notebook"
  },
  "kernelspec": {
   "display_name": "Python 3",
   "language": "python",
   "name": "python3"
  },
  "language_info": {
   "codemirror_mode": {
    "name": "ipython",
    "version": 3
   },
   "file_extension": ".py",
   "mimetype": "text/x-python",
   "name": "python",
   "nbconvert_exporter": "python",
   "pygments_lexer": "ipython3",
   "version": "3.10.12"
  }
 },
 "nbformat": 4,
 "nbformat_minor": 4
}
