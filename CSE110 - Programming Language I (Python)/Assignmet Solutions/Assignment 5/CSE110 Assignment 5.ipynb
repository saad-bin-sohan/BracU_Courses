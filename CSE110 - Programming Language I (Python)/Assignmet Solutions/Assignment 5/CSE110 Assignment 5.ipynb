{
  "nbformat": 4,
  "nbformat_minor": 0,
  "metadata": {
    "colab": {
      "provenance": []
    },
    "kernelspec": {
      "name": "python3",
      "display_name": "Python 3"
    },
    "language_info": {
      "name": "python"
    }
  },
  "cells": [
    {
      "cell_type": "code",
      "execution_count": null,
      "metadata": {
        "colab": {
          "base_uri": "https://localhost:8080/"
        },
        "id": "5q0z-p4oaVP5",
        "outputId": "e8b5ab2a-3e86-4019-a5bf-1075cefa788d"
      },
      "outputs": [
        {
          "output_type": "stream",
          "name": "stdout",
          "text": [
            "Enter a number: 3\n",
            "[3]\n",
            "Enter a number: 5\n",
            "[3, 5]\n",
            "Enter a number: 34\n",
            "[3, 5, 34]\n",
            "Enter a number: -11\n",
            "[3, 5, 34, -11]\n",
            "Enter a number: 0\n",
            "[3, 5, 34, -11, 0]\n"
          ]
        }
      ],
      "source": [
        "#task 1\n",
        "\n",
        "num_list = []\n",
        "\n",
        "for i in range(5):\n",
        "  num = int(input('Enter a number: '))\n",
        "  num_list.append(num)\n",
        "  print(num_list)"
      ]
    },
    {
      "cell_type": "code",
      "source": [
        "#task 2\n",
        "\n",
        "sample_list_str = input('Enter a string: ')\n",
        "\n",
        "'''\n",
        "for x in range(len(sample_list_str)):\n",
        "  if sample_list_str[x] == '[':\n",
        "    sample_list_str = sample_list_str[x+1::]\n",
        "\n",
        "for x in range(-1, -len(sample_list_str)-1, -1):\n",
        "  if sample_list_str[x] == ']':\n",
        "    sample_list_str = sample_list_str[:x-1:]\n",
        "\n",
        "'''\n",
        "\n",
        "sample_list_str = sample_list_str.split(', ')\n",
        "\n",
        "final_list = []\n",
        "\n",
        "if len(sample_list_str) >4:\n",
        "  for x in range(2, len(sample_list_str)-2):\n",
        "    final_list.append(int(sample_list_str[x]))\n",
        "\n",
        "  print(final_list)\n",
        "\n",
        "elif len(sample_list_str) == 4:     #needs improvisation from st\n",
        "  print(final_list)\n",
        "\n",
        "else:\n",
        "  print('Not possible')"
      ],
      "metadata": {
        "id": "0ToJeHZ-a0xU",
        "colab": {
          "base_uri": "https://localhost:8080/"
        },
        "outputId": "e865239e-1dea-4da8-8adc-a1d9ab4f9a77"
      },
      "execution_count": null,
      "outputs": [
        {
          "output_type": "stream",
          "name": "stdout",
          "text": [
            "Enter a string: 10, 20, 24, 25\n",
            "[]\n"
          ]
        }
      ]
    },
    {
      "cell_type": "code",
      "source": [
        "#task 3\n",
        "\n",
        "num_list = []\n",
        "\n",
        "for i1 in range(5):\n",
        "  num = int(input('Enter a number: '))\n",
        "  num_list.append(num)\n",
        "\n",
        "for i2 in range(-1, -len(num_list)-1, -1):\n",
        "  print(num_list[i2])"
      ],
      "metadata": {
        "colab": {
          "base_uri": "https://localhost:8080/"
        },
        "id": "3-XiaBGplNbz",
        "outputId": "23e667f7-6928-40be-ffbb-4c7f642a64a5"
      },
      "execution_count": null,
      "outputs": [
        {
          "output_type": "stream",
          "name": "stdout",
          "text": [
            "Enter a number: 5\n",
            "Enter a number: -5\n",
            "Enter a number: 100\n",
            "Enter a number: 1\n",
            "Enter a number: 0\n",
            "0\n",
            "1\n",
            "100\n",
            "-5\n",
            "5\n"
          ]
        }
      ]
    },
    {
      "cell_type": "code",
      "source": [
        "#task 4\n",
        "\n",
        "given_list_1 = [1, 2, 3, 4, 5, 6, 7]\n",
        "\n",
        "given_list_2 = [3, 5, 1, 6]\n",
        "\n",
        "new_list_1 = []\n",
        "\n",
        "for num in given_list_1:\n",
        "  new_list_1.append(num**2)\n",
        "\n",
        "print(new_list_1)\n",
        "\n",
        "new_list_2 = []\n",
        "\n",
        "for num in given_list_2:\n",
        "  new_list_2.append(num**2)\n",
        "\n",
        "print(new_list_2)"
      ],
      "metadata": {
        "colab": {
          "base_uri": "https://localhost:8080/"
        },
        "id": "hcz331k2mY5k",
        "outputId": "d383201c-85d1-4907-8382-4d45a9216343"
      },
      "execution_count": null,
      "outputs": [
        {
          "output_type": "stream",
          "name": "stdout",
          "text": [
            "[1, 4, 9, 16, 25, 36, 49]\n",
            "[9, 25, 1, 36]\n"
          ]
        }
      ]
    },
    {
      "cell_type": "code",
      "source": [
        "#task 5\n",
        "\n",
        "given_list_1 = [\"hey\", \"there\", \"\", \"what's\", \"\", \"up\", \"\", \"?\"]\n",
        "\n",
        "print('Original list:', given_list_1)\n",
        "\n",
        "mod_list_1 = []\n",
        "\n",
        "for elem_1 in given_list_1:\n",
        "  if elem_1 != '':\n",
        "    mod_list_1.append(elem_1)\n",
        "\n",
        "print( 'Modified list:', mod_list_1)"
      ],
      "metadata": {
        "colab": {
          "base_uri": "https://localhost:8080/"
        },
        "id": "a8Eywq_znGAf",
        "outputId": "9c5d830e-fbf9-4604-c9f6-429087765bf6"
      },
      "execution_count": null,
      "outputs": [
        {
          "output_type": "stream",
          "name": "stdout",
          "text": [
            "Original list: ['hey', 'there', '', \"what's\", '', 'up', '', '?']\n",
            "Modified list: ['hey', 'there', \"what's\", 'up', '?']\n"
          ]
        }
      ]
    },
    {
      "cell_type": "code",
      "source": [
        "#unassigned\n",
        "\n",
        "list1 = [1, 23, 74, 53, 39, 32, 2]\n",
        "\n",
        "for i1 in range(len(list1)):\n",
        "\n",
        "  min_ind = i1\n",
        "\n",
        "  for i2 in range(i1+1, len(list1)):\n",
        "\n",
        "    if list1[min_ind] > list1[i2]:\n",
        "\n",
        "      min_ind = i2\n",
        "\n",
        "  list1[i1], list1[min_ind] = list1[min_ind], list1[i1]\n",
        "\n",
        "print(list1) "
      ],
      "metadata": {
        "id": "hgyqEN4aoJdI",
        "colab": {
          "base_uri": "https://localhost:8080/"
        },
        "outputId": "269e3d09-c5a2-43f6-b084-2161e21c2678"
      },
      "execution_count": null,
      "outputs": [
        {
          "output_type": "stream",
          "name": "stdout",
          "text": [
            "[1, 2, 23, 32, 39, 53, 74]\n"
          ]
        }
      ]
    },
    {
      "cell_type": "code",
      "source": [
        "#unassigned\n",
        "\n",
        "list1 = [7, 13, 2, 10, 6, -11, 0]\n",
        "\n",
        "\n",
        "for i1 in range(len(list1)):\n",
        "\n",
        "  min_ind = i1\n",
        "\n",
        "  for i2 in range(i1+1, len(list1)):\n",
        "\n",
        "    if list1[min_ind] > list1[i2]:\n",
        "\n",
        "      min_ind = i2\n",
        "\n",
        "  list1[i1], list1[min_ind] = list1[min_ind], list1[i1]\n",
        "\n",
        "print(list1)"
      ],
      "metadata": {
        "colab": {
          "base_uri": "https://localhost:8080/"
        },
        "id": "b1-KNXsGe59G",
        "outputId": "09177868-75b5-429f-e710-04c2fd59dbbc"
      },
      "execution_count": null,
      "outputs": [
        {
          "output_type": "stream",
          "name": "stdout",
          "text": [
            "[-11, 0, 2, 6, 7, 10, 13]\n"
          ]
        }
      ]
    },
    {
      "cell_type": "code",
      "source": [
        "#unassigned\n",
        "\n",
        "list1 = [1, 23, 74, 53, 39, 32, 2]\n",
        "\n",
        "for i1 in range(len(list1)):\n",
        "\n",
        "  max_ind = i1\n",
        "\n",
        "  for i2 in range(i1+1, len(list1)):\n",
        "\n",
        "    if list1[max_ind] < list1[i2]:\n",
        "\n",
        "      max_ind = i2\n",
        "\n",
        "  list1[i1], list1[max_ind] = list1[max_ind], list1[i1]\n",
        "\n",
        "print(list1) "
      ],
      "metadata": {
        "colab": {
          "base_uri": "https://localhost:8080/"
        },
        "id": "gWRzkx05fjib",
        "outputId": "021d5f4f-5606-4289-f650-099271509e7a"
      },
      "execution_count": null,
      "outputs": [
        {
          "output_type": "stream",
          "name": "stdout",
          "text": [
            "[74, 53, 39, 32, 23, 2, 1]\n"
          ]
        }
      ]
    },
    {
      "cell_type": "code",
      "source": [
        "#task 6\n",
        "\n",
        "numbers = input('Enter 7 numbers separated by comma followed by a space: ')\n",
        "\n",
        "num_list = numbers.split(', ')\n",
        "\n",
        "final_num_list = []\n",
        "\n",
        "for str_num in num_list:\n",
        "  final_num_list.append(int(str_num))\n",
        "\n",
        "print('My list:', final_num_list)\n",
        "\n",
        "list2 = final_num_list\n",
        "\n",
        "for i1 in range(len(list2)):\n",
        "\n",
        "  min_ind = i1\n",
        "\n",
        "  for i2 in range(i1+1, len(list2)):\n",
        "\n",
        "    if list2[min_ind] > list2[i2]:\n",
        "\n",
        "      min_ind = i2\n",
        "\n",
        "  list2[min_ind], list2[i1] = list2[i1], list2[min_ind]\n",
        "\n",
        "for i3 in range( len(final_num_list) ):\n",
        "\n",
        "  if final_num_list[i3] == list2[-1]:\n",
        "\n",
        "    max_ind = i3\n",
        "    break\n",
        "\n",
        "print('Largest number in the list is', list2[-1], end='')\n",
        "\n",
        "print('which was found at index', max_ind)"
      ],
      "metadata": {
        "id": "XxLRP9ujZjTc",
        "colab": {
          "base_uri": "https://localhost:8080/"
        },
        "outputId": "5757401b-e830-4937-c514-6fab2cd24c88"
      },
      "execution_count": null,
      "outputs": [
        {
          "output_type": "stream",
          "name": "stdout",
          "text": [
            "Enter 7 numbers separated by comma followed by a space: 7, 13, 2, 10, 6, -11, 0\n",
            "My list: [7, 13, 2, 10, 6, -11, 0]\n",
            "Largest number in the list is 13 which was found at index 6\n"
          ]
        }
      ]
    },
    {
      "cell_type": "code",
      "source": [
        "#task 6 correctly done \n",
        "\n",
        "user = input('Enter 7 comma space separated values: ')\n",
        "\n",
        "org_list = []\n",
        "num = ''\n",
        "\n",
        "for char in user:\n",
        "\n",
        "  if ( char in '1234567890' ) or char == '-':\n",
        "\n",
        "    num += char\n",
        "\n",
        "  elif char != ' ':\n",
        "    org_list.append(int(num))\n",
        "    num = ''\n",
        "\n",
        "org_list.append(int(num))\n",
        "\n",
        "print('Original list:', org_list)\n",
        "\n",
        "max = org_list[0]\n",
        "\n",
        "for i2 in range(len(org_list)):\n",
        "\n",
        "  if org_list[i2] > max:\n",
        "    max = org_list[i2]\n",
        "    max_ind = i2\n",
        "\n",
        "print('Largest number in the list is', max, 'which was found at index', max_ind, '.')"
      ],
      "metadata": {
        "colab": {
          "base_uri": "https://localhost:8080/"
        },
        "id": "gqebQSZeAV2g",
        "outputId": "13f738bf-0c48-4f47-e8f5-fcf94c344b70"
      },
      "execution_count": null,
      "outputs": [
        {
          "output_type": "stream",
          "name": "stdout",
          "text": [
            "Enter 7 comma space separated values: 7, 13, 2, 10, 6, -11, 0\n",
            "Original list: [7, 13, 2, 10, 6, -11, 0]\n",
            "Largest number in the list is 13 which was found at index 1 .\n"
          ]
        }
      ]
    },
    {
      "cell_type": "code",
      "source": [
        "#task 7\n",
        "\n",
        "list_1 = [1, 4, 7, 5]\n",
        "list_2 = [6, 1, 3, 9]\n",
        "\n",
        "list_3 = []\n",
        "\n",
        "for i1 in range(len(list_1)-1):\n",
        "  list_3.append(list_1[i1])\n",
        "\n",
        "for i2 in list_2:\n",
        "  list_3.append(i2)\n",
        "\n",
        "print(list_3)\n",
        "\n",
        "\n",
        "list_1 = [1, 3, 5, 7, 9, 10]\n",
        "list_2 = [2, 4, 6, 8]\n",
        "\n",
        "list_3 = []\n",
        "\n",
        "for i1 in range(len(list_1)-1):\n",
        "  list_3.append(list_1[i1])\n",
        "\n",
        "for i2 in list_2:\n",
        "  list_3.append(i2)\n",
        "\n",
        "print(list_3)"
      ],
      "metadata": {
        "id": "15fZmxT_l5R8",
        "colab": {
          "base_uri": "https://localhost:8080/"
        },
        "outputId": "cdc6b3f1-6fe4-4aa7-d639-92715592f449"
      },
      "execution_count": null,
      "outputs": [
        {
          "output_type": "stream",
          "name": "stdout",
          "text": [
            "[1, 4, 7, 6, 1, 3, 9]\n",
            "[1, 3, 5, 7, 9, 2, 4, 6, 8]\n"
          ]
        }
      ]
    },
    {
      "cell_type": "code",
      "source": [
        "#task 8\n",
        "\n",
        "list_1 =  [1, 2, 3, 4, 5, 6, 7, 8, 9]\n",
        "\n",
        "list_2 = [10, 11, 12, -13, -14, -15, -16]\n",
        "\n",
        "list_3 = []\n",
        "\n",
        "for elem1 in list_1:\n",
        "  if elem1%2 == 0:\n",
        "    list_3.append(elem1)\n",
        "\n",
        "for elem2 in list_2:\n",
        "  if elem2%2==0:\n",
        "    list_3.append(elem2)\n",
        "\n",
        "print(list_3)"
      ],
      "metadata": {
        "id": "1Du1ZM7Ma-Eq",
        "colab": {
          "base_uri": "https://localhost:8080/"
        },
        "outputId": "3063c64e-adce-454e-f5bc-ecc9f4bedbd5"
      },
      "execution_count": null,
      "outputs": [
        {
          "output_type": "stream",
          "name": "stdout",
          "text": [
            "[2, 4, 6, 8, 10, 12, -14, -16]\n"
          ]
        }
      ]
    },
    {
      "cell_type": "code",
      "source": [
        "#task 9\n",
        "\n",
        "user = input('Enter space separated numbers: ')\n",
        "\n",
        "num_list = []\n",
        "num = ''\n",
        "\n",
        "for x in range(len(user)):\n",
        "\n",
        "  if user[x] in '1234567890':\n",
        "    num += user[x]\n",
        "  \n",
        "  elif user[x] == ' ':\n",
        "    num_list.append(int(num))\n",
        "    num = ''\n",
        "\n",
        "num_list.append(int(num))\n",
        "\n",
        "print('Original list:', num_list)\n",
        "\n",
        "odd_num_list = []\n",
        "\n",
        "for elem in num_list:\n",
        "  if elem %2!=0:\n",
        "    odd_num_list.append(elem)\n",
        "\n",
        "print('Modified list:', odd_num_list)"
      ],
      "metadata": {
        "colab": {
          "base_uri": "https://localhost:8080/"
        },
        "id": "MV2LvxVSczpz",
        "outputId": "d0008300-5ad7-4e27-bd9b-dc51ba1db09f"
      },
      "execution_count": null,
      "outputs": [
        {
          "output_type": "stream",
          "name": "stdout",
          "text": [
            "Enter space separated numbers: 7 12 4 55 96 2 11 61 33 42\n",
            "Original list: [7, 12, 4, 55, 96, 2, 11, 61, 33, 42]\n",
            "Modified list: [7, 55, 11, 61, 33]\n"
          ]
        }
      ]
    },
    {
      "cell_type": "code",
      "source": [
        "#task 10\n",
        "\n",
        "user = input('Enter comma space separated numbers: ')\n",
        "\n",
        "num = ''\n",
        "num_list = []\n",
        "\n",
        "for i in range(len(user)):\n",
        "\n",
        "  if user[i] in '1234567890':\n",
        "    num += user[i]\n",
        "\n",
        "  elif user[i] != ' ':\n",
        "    num_list.append(int(num))\n",
        "    num = ''\n",
        "\n",
        "num_list.append(int(num))\n",
        "\n",
        "print('Original list:', num_list)\n",
        "\n",
        "dist_elem_list = []\n",
        "\n",
        "#dist_elem_list = [ elem for elem in num_list if elem not in dist_elem_list ]\n",
        "\n",
        "for elem in num_list:\n",
        "  if elem not in dist_elem_list:\n",
        "    dist_elem_list.append(elem)\n",
        "\n",
        "print('Modified list:', dist_elem_list)"
      ],
      "metadata": {
        "colab": {
          "base_uri": "https://localhost:8080/"
        },
        "id": "-PYjGokjdEJR",
        "outputId": "a8c6c147-b261-4632-e072-8de3ad4b55b0"
      },
      "execution_count": null,
      "outputs": [
        {
          "output_type": "stream",
          "name": "stdout",
          "text": [
            "Enter comma space separated numbers: 0, 0, 1, 2, 3, 4, 4, 5, 6, 6, 6, 7, 8, 9, 4, 4\n",
            "Original list: [0, 0, 1, 2, 3, 4, 4, 5, 6, 6, 6, 7, 8, 9, 4, 4]\n",
            "Modified list: [0, 1, 2, 3, 4, 5, 6, 7, 8, 9]\n"
          ]
        }
      ]
    },
    {
      "cell_type": "code",
      "source": [
        "#task 11\n",
        "\n",
        "list_1 = [1, 4, 3, 2, 6]\n",
        "list_2 = [5, 6, 9, 8, 7]\n",
        "\n",
        "do_we_have_that = False\n",
        "\n",
        "for x in list_1:\n",
        "  if x in list_2:\n",
        "    do_we_have_that = True\n",
        "    break\n",
        "\n",
        "print(do_we_have_that)\n",
        "\n",
        "list_1 = [1, 4, 3, 2, 5]\n",
        "list_2 = [8, 7, 6, 9]\n",
        "\n",
        "do_we_have_that = False\n",
        "\n",
        "for x in list_1:\n",
        "  if x in list_2:\n",
        "    do_we_have_that = True\n",
        "    break\n",
        "\n",
        "print(do_we_have_that)"
      ],
      "metadata": {
        "colab": {
          "base_uri": "https://localhost:8080/"
        },
        "id": "xMPnTkCOhbcS",
        "outputId": "759164fd-747b-476a-ee08-5e9e2f66c3ca"
      },
      "execution_count": null,
      "outputs": [
        {
          "output_type": "stream",
          "name": "stdout",
          "text": [
            "True\n",
            "False\n"
          ]
        }
      ]
    },
    {
      "cell_type": "code",
      "source": [
        "#task 16           7, 13, 2, 10, 6, -11, 0 #failed\n",
        "\n",
        "user = input('Enter comma space separated numbers: ')\n",
        "\n",
        "num = ''\n",
        "num_list = []\n",
        "\n",
        "for i1 in range(len(user)):\n",
        "\n",
        "  if ( user[i1] in '1234567890' ) or (user[i1]=='-'):\n",
        "    num += user[i1]\n",
        "  \n",
        "  elif user[i1] != ' ':\n",
        "    num_list.append(int(num))\n",
        "    num = ''\n",
        "\n",
        "num_list.append(int(num))\n",
        "\n",
        "dup_list = num_list\n",
        "max = num_list[0]\n",
        "max_ind = 0\n",
        "\n",
        "print('My list:', num_list)\n",
        "\n",
        "for i1 in range(len(num_list)):\n",
        "\n",
        "  min_ind = i1\n",
        "\n",
        "  for i2 in range(i1+1, len(num_list)):\n",
        "\n",
        "    if num_list[min_ind] > num_list[i2]:\n",
        "\n",
        "      min_ind = i2\n",
        "\n",
        "  dup_list[min_ind], dup_list[i1] = dup_list[i1], dup_list[min_ind]\n",
        "\n",
        "print('Ordered list:', dup_list)\n",
        "\n",
        "for i3 in range(len(num_list)):\n",
        "\n",
        "  if dup_list[-2] == num_list[i3]:\n",
        "\n",
        "    sec_max_ind = i3\n",
        "\n",
        "print('Second largest number in the list is', dup_list[-2], 'which was found at index', sec_max_ind, '.')"
      ],
      "metadata": {
        "colab": {
          "base_uri": "https://localhost:8080/"
        },
        "id": "JYAEPKnjjs_6",
        "outputId": "86c4dcf5-dfee-4afb-be0b-843655f4c225"
      },
      "execution_count": null,
      "outputs": [
        {
          "output_type": "stream",
          "name": "stdout",
          "text": [
            "Enter comma space separated numbers: 7, 13, 2, 10, 6, -11, 0\n",
            "My list: [7, 13, 2, 10, 6, -11, 0]\n",
            "Ordered list: [-11, 0, 2, 6, 7, 10, 13]\n",
            "Second largest number in the list is 10 which was found at index 5 .\n"
          ]
        }
      ]
    },
    {
      "cell_type": "code",
      "source": [
        "#task 16           7, 13, 2, 10, 6, -11, 0 #chorer upor batpari\n",
        "\n",
        "user = input('Enter comma space separated numbers: ')\n",
        "\n",
        "num = ''\n",
        "num_list = []\n",
        "\n",
        "for i1 in range(len(user)):\n",
        "\n",
        "  if ( user[i1] in '1234567890' ) or (user[i1]=='-'):\n",
        "    num += user[i1]\n",
        "  \n",
        "  elif user[i1] != ' ':\n",
        "    num_list.append(int(num))\n",
        "    num = ''\n",
        "\n",
        "num_list.append(int(num))\n",
        "\n",
        "num_tuple = tuple(num_list)\n",
        "\n",
        "max = num_list[0]\n",
        "max_ind = 0\n",
        "\n",
        "print('My list:', num_list)\n",
        "\n",
        "for i1 in range(len(num_list)):\n",
        "\n",
        "  min_ind = i1\n",
        "\n",
        "  for i2 in range(i1+1, len(num_list)):\n",
        "\n",
        "    if num_list[min_ind] > num_list[i2]:\n",
        "\n",
        "      min_ind = i2\n",
        "\n",
        "  num_list[min_ind], num_list[i1] = num_list[i1], num_list[min_ind]\n",
        "\n",
        "for i3 in range(len(num_tuple)):\n",
        "\n",
        "  if num_list[-2] == num_tuple[i3]:\n",
        "\n",
        "    sec_max_ind = i3\n",
        "\n",
        "print('Second largest number in the list is', num_list[-2], 'which was found at index', sec_max_ind, '.')"
      ],
      "metadata": {
        "colab": {
          "base_uri": "https://localhost:8080/"
        },
        "id": "A5c6HONVA8uC",
        "outputId": "738256e0-39b2-4fc7-e022-b9390e28b28d"
      },
      "execution_count": null,
      "outputs": [
        {
          "output_type": "stream",
          "name": "stdout",
          "text": [
            "Enter comma space separated numbers: 7, 13, 2, 10, 6, -11, 0\n",
            "My list: [7, 13, 2, 10, 6, -11, 0]\n",
            "Second largest number in the list is 10 which was found at index 3 .\n"
          ]
        }
      ]
    },
    {
      "cell_type": "code",
      "source": [
        "#task 17.       7, 13, -5, 10, 6\n",
        "\n",
        "user = input('Enter your numbers: ')\n",
        "\n",
        "num = ''\n",
        "num_list = []\n",
        "\n",
        "for char in user:\n",
        "  if ( char in '1234567890' ) or char =='-':\n",
        "    num+= char\n",
        "  \n",
        "  elif char != ' ':\n",
        "    num_list.append(int(num))\n",
        "    num = ''\n",
        "\n",
        "num_list.append(int(num))\n",
        "\n",
        "max = num_list[0]\n",
        "max_ind = 0\n",
        "min = num_list[0]\n",
        "min_ind = 0\n",
        "\n",
        "for i in range(len(num_list)):\n",
        "  if num_list[i] > max:\n",
        "    max = num_list[i]\n",
        "    max_ind = i\n",
        "\n",
        "  if num_list[i] < min:\n",
        "    min = num_list[i]\n",
        "    min_ind = i\n",
        "\n",
        "print('Smallest number in the list is', min, 'which was found at index', min_ind)\n",
        "print('Largest number in the list is', max, 'which was found at index', max_ind)"
      ],
      "metadata": {
        "colab": {
          "base_uri": "https://localhost:8080/"
        },
        "id": "qoGLOLD3Fcwa",
        "outputId": "58c949bb-f7da-48c2-e41f-68ff8c33d7ab"
      },
      "execution_count": null,
      "outputs": [
        {
          "output_type": "stream",
          "name": "stdout",
          "text": [
            "Enter your numbers: 7, 13, -5, 10, 6\n",
            "Smallest number in the list is -5 which was found at index 2\n",
            "Largest number in the list is 13 which was found at index 1\n"
          ]
        }
      ]
    },
    {
      "cell_type": "code",
      "source": [
        "#task 18\n",
        "\n",
        "list_1 = input('Enter the first list: ')\n",
        "list_1 = list_1.split(', ')\n",
        "\n",
        "list_2 = input('Enter your second list: ')\n",
        "list_2 = list_2.split(', ')\n",
        "\n",
        "list_3 = []\n",
        "\n",
        "for elem in list_2:\n",
        "  if elem in list_1:\n",
        "    list_3.append(elem)\n",
        "\n",
        "print(list_3)"
      ],
      "metadata": {
        "colab": {
          "base_uri": "https://localhost:8080/"
        },
        "id": "lg0b6H1wH_UC",
        "outputId": "07b0f793-7e6c-4f42-846f-e9dcfa8bb6fa"
      },
      "execution_count": null,
      "outputs": [
        {
          "output_type": "stream",
          "name": "stdout",
          "text": [
            "Enter the first list: 1, 3, A, H, P\n",
            "Enter your second list: A, G, 1, P, O\n",
            "['A', '1', 'P']\n"
          ]
        }
      ]
    },
    {
      "cell_type": "code",
      "source": [
        "#task 19\n",
        "\n",
        "list_one = [1, 2, 2, 4, 5, 5, 7, 99, 200, 303, 70]\n",
        "list_two = [1, 1, 2, 3, 3, 3, 4, 5, 200, 500, -5]\n",
        "\n",
        "distinct_list = []\n",
        "\n",
        "for elem1 in list_one:\n",
        "  if elem1 not in distinct_list:\n",
        "    distinct_list.append(elem1)\n",
        "\n",
        "for elem2 in list_two:\n",
        "  if elem2 not in distinct_list:\n",
        "    distinct_list.append(elem2)\n",
        "\n",
        "print(distinct_list)"
      ],
      "metadata": {
        "colab": {
          "base_uri": "https://localhost:8080/"
        },
        "id": "klb4-jr1KBSJ",
        "outputId": "60ea4b6f-29c7-45df-e008-46b50ef2c527"
      },
      "execution_count": null,
      "outputs": [
        {
          "output_type": "stream",
          "name": "stdout",
          "text": [
            "[1, 2, 4, 5, 7, 99, 200, 303, 70, 3, 500, -5]\n"
          ]
        }
      ]
    },
    {
      "cell_type": "code",
      "source": [
        "#task 20\n",
        "\n",
        "user = input('Enter your list: ')\n",
        "\n",
        "user = user.strip(\"' \")\n",
        "user = user.strip('\"\"')\n",
        "\n",
        "print('Original data:', user)\n",
        "user = user.strip(' [] ')\n",
        "print('After removing square brackets:', user)\n",
        "user = user.split(',')\n",
        "print('Numbers in string format with extra white spaces:', user)\n",
        "\n",
        "final_num_list = []\n",
        "\n",
        "for elem in user:\n",
        "  ele = elem.strip(' ')\n",
        "  final_num_list.append(int(ele))\n",
        "\n",
        "print('Final data(numbers in list format):', final_num_list)"
      ],
      "metadata": {
        "colab": {
          "base_uri": "https://localhost:8080/"
        },
        "id": "Hb--P6NVLS_Q",
        "outputId": "44971115-67a5-408a-a5cd-5688c44dea5e"
      },
      "execution_count": null,
      "outputs": [
        {
          "output_type": "stream",
          "name": "stdout",
          "text": [
            "Enter your list: \"      [1,   2   ,         3,   50,   4]         \"\n",
            "Original data:       [1,   2   ,         3,   50,   4]         \n",
            "After removing square brackets: 1,   2   ,         3,   50,   4\n",
            "Numbers in string format with extra white spaces: ['1', '   2   ', '         3', '   50', '   4']\n",
            "Final data(numbers in list format): [1, 2, 3, 50, 4]\n"
          ]
        }
      ]
    },
    {
      "cell_type": "code",
      "source": [
        "#task 21 0, 0, 1, 2, 3, 4,      4, 5, 6, 6, 6,      7, 8, 9, 4,         4\n",
        "\n",
        "user = input('Enter comma separated values: ')\n",
        "\n",
        "user = user.split(',')\n",
        "\n",
        "num_list = []\n",
        "\n",
        "for elem in user:\n",
        "\n",
        "  num = ''\n",
        "\n",
        "  for char in elem:\n",
        "\n",
        "    if char in '1234567890':\n",
        "\n",
        "      num += char\n",
        "  num_list.append(int(num))\n",
        "\n",
        "print('Given numbers in list', num_list)\n",
        "\n",
        "distinct_list = []\n",
        "\n",
        "for ele in num_list:\n",
        "  if ele not in distinct_list:\n",
        "    distinct_list.append(ele)\n",
        "\n",
        "print('List without any dupliacte values:', distinct_list)"
      ],
      "metadata": {
        "colab": {
          "base_uri": "https://localhost:8080/"
        },
        "id": "4zfDckTcR3IQ",
        "outputId": "01e8711d-c8ae-434a-97b3-fd9f902c1e88"
      },
      "execution_count": null,
      "outputs": [
        {
          "output_type": "stream",
          "name": "stdout",
          "text": [
            "Enter comma separated values: 7, 7, 7, 1,           0, 3, 3,   55, 9\n",
            "Given numbers in list [7, 7, 7, 1, 0, 3, 3, 55, 9]\n",
            "List without any dupliacte values: [7, 1, 0, 3, 55, 9]\n"
          ]
        }
      ]
    },
    {
      "cell_type": "code",
      "source": [
        "#suggested\n",
        "main_list = [1,2,3,2,2,1,2,4,4,5,3]\n",
        "modified_list = []\n",
        "[modified_list.append(i) for i in main_list if i not in modified_list]\n",
        "print(modified_list)"
      ],
      "metadata": {
        "id": "AeBLILO8qw4E",
        "colab": {
          "base_uri": "https://localhost:8080/"
        },
        "outputId": "abbcbb75-3e7f-42e7-ae71-a886ae62a7eb"
      },
      "execution_count": null,
      "outputs": [
        {
          "output_type": "stream",
          "name": "stdout",
          "text": [
            "[1, 2, 3, 4, 5]\n"
          ]
        }
      ]
    },
    {
      "cell_type": "code",
      "source": [
        "#task 6       7, 13, 2, 10, 6, -11, 0 #failed \n",
        "\n",
        "user = input('Enter 7 comma space separated values: ')\n",
        "\n",
        "org_list = []\n",
        "num = ''\n",
        "\n",
        "for char in user:\n",
        "\n",
        "  if ( char in '1234567890' ) or char == '-':\n",
        "\n",
        "    num += char\n",
        "\n",
        "  elif char != ' ':\n",
        "    org_list.append(int(num))\n",
        "    num = ''\n",
        "\n",
        "org_list.append(int(num))\n",
        "\n",
        "print('Original list:', org_list)\n",
        "'''\n",
        "ascend_list = org_list\n",
        "\n",
        "for i in range(len(ascend_list)):\n",
        "  min_ind = i\n",
        "\n",
        "  for j in range(i+1, len(ascend_list)):\n",
        "\n",
        "    if ascend_list[min_ind] > ascend_list[j]:\n",
        "      min_ind = j\n",
        "      \n",
        "  ascend_list[min_ind], ascend_list[i] = ascend_list[i], ascend_list[min_ind]\n",
        "\n",
        "\n",
        "for i2 in range(len(org_list)):\n",
        "\n",
        "  if org_list[i2] == ascend_list[-1]:\n",
        "    max_ind = i2 '''\n",
        "\n",
        "max = org_list[0]\n",
        "\n",
        "for i2 in range(len(org_list)):\n",
        "\n",
        "  if org_list[i2] > max:\n",
        "    max = org_list[i2]\n",
        "    max_ind = i2\n",
        "\n",
        "#print('Modified list:', ascend_list)\n",
        "print('Largest number in the list is', max, 'which was found at index', max_ind, '.')\n",
        "\n",
        "\n",
        "print('org', org_list)"
      ],
      "metadata": {
        "colab": {
          "base_uri": "https://localhost:8080/"
        },
        "id": "CWCUJWXvu6M0",
        "outputId": "55181771-e6ce-4c8a-bda8-d9d11d8ecb82"
      },
      "execution_count": null,
      "outputs": [
        {
          "output_type": "stream",
          "name": "stdout",
          "text": [
            "Enter 7 comma space separated values: 7, 13, 2, 10, 6, -11\n",
            "Original list: [7, 13, 2, 10, 6, -11]\n",
            "Largest number in the list is 13 which was found at index 1 .\n",
            "org [7, 13, 2, 10, 6, -11]\n"
          ]
        }
      ]
    },
    {
      "cell_type": "code",
      "source": [
        "list_1 = [1, 2, 3]\n",
        "list_2 = list_1\n",
        "\n",
        "list_2.append(9)\n",
        "\n",
        "print(list_1)"
      ],
      "metadata": {
        "colab": {
          "base_uri": "https://localhost:8080/"
        },
        "id": "p6QA91SUyPwE",
        "outputId": "bf75941e-c977-4927-9ccd-40c10ce42dbc"
      },
      "execution_count": null,
      "outputs": [
        {
          "output_type": "stream",
          "name": "stdout",
          "text": [
            "[1, 2, 3, 9]\n"
          ]
        }
      ]
    }
  ]
}