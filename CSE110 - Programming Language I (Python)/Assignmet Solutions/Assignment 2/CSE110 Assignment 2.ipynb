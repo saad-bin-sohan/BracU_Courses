{
  "cells": [
    {
      "cell_type": "code",
      "execution_count": null,
      "metadata": {
        "colab": {
          "base_uri": "https://localhost:8080/"
        },
        "id": "aeLMyhdlvm04",
        "outputId": "0e9cdbeb-914a-4d91-d270-55fa4f66466b"
      },
      "outputs": [
        {
          "name": "stdout",
          "output_type": "stream",
          "text": [
            "Enter a number: 4\n",
            "Enter another number: 5\n",
            "Sum = 9\n",
            "Product =  20\n",
            "Difference=  -1\n"
          ]
        }
      ],
      "source": [
        "#task 1\n",
        "\n",
        "n1 = int(input('Enter a number: '))\n",
        "n2 = int(input('Enter another number: '))\n",
        "\n",
        "sum = n1 + n2\n",
        "prod = n1 * n2\n",
        "diff = n1 - n2\n",
        "\n",
        "print('Sum =' , sum)\n",
        "print('Product = ', prod)\n",
        "print('Difference= ', diff)"
      ]
    },
    {
      "cell_type": "code",
      "execution_count": null,
      "metadata": {
        "colab": {
          "base_uri": "https://localhost:8080/"
        },
        "id": "qrDnBPCPyRrX",
        "outputId": "14f64aff-6750-4cff-9531-cf5702a54e04"
      },
      "outputs": [
        {
          "name": "stdout",
          "output_type": "stream",
          "text": [
            "Enter the radius: 3.5\n",
            "Area is 38.48451000647496\n",
            "Circumference is 21.991148575128552\n"
          ]
        }
      ],
      "source": [
        "#task 2\n",
        "\n",
        "import math\n",
        "\n",
        "rad = float(input('Enter the radius: '))\n",
        "\n",
        "area = math.pi * (rad**2)\n",
        "\n",
        "circumference = 2 * math.pi * rad\n",
        "\n",
        "print('Area is', area)\n",
        "print('Circumference is', circumference)"
      ]
    },
    {
      "cell_type": "code",
      "execution_count": null,
      "metadata": {
        "colab": {
          "base_uri": "https://localhost:8080/"
        },
        "id": "urEuVhn1uyMK",
        "outputId": "b4b39c88-6e7d-47a3-89ff-f19bee46f4c1"
      },
      "outputs": [
        {
          "name": "stdout",
          "output_type": "stream",
          "text": [
            "Enter the first number: 11\n",
            "Enter the second number: 11\n",
            "The numbers are equal\n"
          ]
        }
      ],
      "source": [
        "#task 3\n",
        "\n",
        "num1 = int(input('Enter the first number: '))\n",
        "\n",
        "num2 = int(input('Enter the second number: '))\n",
        "\n",
        "if num1> num2:\n",
        "  print('First is greater')\n",
        "\n",
        "elif num2> num1:\n",
        "  print('Second is greater')\n",
        "\n",
        "else:\n",
        "  print('The numbers are equal')"
      ]
    },
    {
      "cell_type": "code",
      "execution_count": null,
      "metadata": {
        "colab": {
          "base_uri": "https://localhost:8080/"
        },
        "id": "sCJZYKuavc0r",
        "outputId": "2b9a8edb-1a21-4aaa-ce99-8d97037deecf"
      },
      "outputs": [
        {
          "name": "stdout",
          "output_type": "stream",
          "text": [
            "Enter a number: 5\n",
            "Enter another number: 5\n",
            "0\n"
          ]
        }
      ],
      "source": [
        "#task 4\n",
        "\n",
        "num1 = int(input('Enter a number: '))\n",
        "\n",
        "num2 = int(input('Enter another number: '))\n",
        "\n",
        "if num1>num2:\n",
        "  res = num1 - num2\n",
        "else:\n",
        "  res = num2 - num1\n",
        "\n",
        "print(res)"
      ]
    },
    {
      "cell_type": "code",
      "execution_count": null,
      "metadata": {
        "colab": {
          "base_uri": "https://localhost:8080/"
        },
        "id": "aSuOW_SSv9PH",
        "outputId": "485f1666-3364-41a1-c4c2-ba5cedcf552e"
      },
      "outputs": [
        {
          "name": "stdout",
          "output_type": "stream",
          "text": [
            "Enter a number: -44\n",
            "The number is even\n"
          ]
        }
      ],
      "source": [
        "#task 5\n",
        "\n",
        "num = int(input('Enter a number: '))\n",
        "\n",
        "if num%2==0:\n",
        "  print('The number is even')\n",
        "\n",
        "else:\n",
        "  print('The number is odd')"
      ]
    },
    {
      "cell_type": "code",
      "execution_count": null,
      "metadata": {
        "colab": {
          "base_uri": "https://localhost:8080/"
        },
        "id": "Z7bNjVPFwqZh",
        "outputId": "a2e5ef0e-6f74-410c-8866-1a51ea3c5dc8"
      },
      "outputs": [
        {
          "name": "stdout",
          "output_type": "stream",
          "text": [
            "Enter a number: 3\n",
            "Not a multiple of 2 OR 5\n"
          ]
        }
      ],
      "source": [
        "#task 6\n",
        "\n",
        "num = int(input('Enter a number: '))\n",
        "\n",
        "if num%2==0 or num%5==0:\n",
        "  print(num)\n",
        "else:\n",
        "  print('Not a multiple of 2 OR 5')"
      ]
    },
    {
      "cell_type": "code",
      "execution_count": null,
      "metadata": {
        "colab": {
          "base_uri": "https://localhost:8080/"
        },
        "id": "vULhmJndyG4o",
        "outputId": "0cba33bf-eb7f-482b-9c9c-d03f90d4d648"
      },
      "outputs": [
        {
          "name": "stdout",
          "output_type": "stream",
          "text": [
            "Enter a number: 17\n",
            "Not a multiple we want\n"
          ]
        }
      ],
      "source": [
        "#task 7\n",
        "\n",
        "num = int(input('Enter a number: '))\n",
        "\n",
        "if num%2==0 or num%5==0:\n",
        "\n",
        "  if num%2==0 and num%5==0:\n",
        "    print('Multiple of 2 and 5 both')\n",
        "  \n",
        "  else:\n",
        "    print(num)\n",
        "\n",
        "else:\n",
        "  print('Not a multiple we want')"
      ]
    },
    {
      "cell_type": "code",
      "execution_count": null,
      "metadata": {
        "colab": {
          "base_uri": "https://localhost:8080/"
        },
        "id": "Mc4M4J5zzEx5",
        "outputId": "5f42d131-7b41-4ab8-b87f-ab40ea1a6c8a"
      },
      "outputs": [
        {
          "name": "stdout",
          "output_type": "stream",
          "text": [
            "Enter a number: 6\n",
            "Not a multiple of 2 and 5 both\n"
          ]
        }
      ],
      "source": [
        "#task 8 \n",
        "\n",
        "num = int(input('Enter a number: '))\n",
        "\n",
        "if num%2==0 and num%5==0:\n",
        "  print(num)\n",
        "\n",
        "else:\n",
        "  print('Not a multiple of 2 and 5 both')"
      ]
    },
    {
      "cell_type": "code",
      "execution_count": null,
      "metadata": {
        "colab": {
          "base_uri": "https://localhost:8080/"
        },
        "id": "oCnKQTsZziRI",
        "outputId": "1145de6d-d521-4a68-e787-c448f292f5a8"
      },
      "outputs": [
        {
          "name": "stdout",
          "output_type": "stream",
          "text": [
            "How many seconds? 500\n",
            "Hours: 0  Minutes:  8  Seconds:  20\n"
          ]
        }
      ],
      "source": [
        "#task 9\n",
        "\n",
        "given_sec = int(input('How many seconds? '))\n",
        "\n",
        "hour = given_sec//3600\n",
        "\n",
        "min = ( given_sec%3600 ) // 60\n",
        "\n",
        "sec = (given_sec%3600) % 60\n",
        "\n",
        "#sec =  given_sec - (hour*3600) - (min*60)\n",
        "\n",
        "print('Hours:', hour, ' Minutes: ', min, ' Seconds: ', sec)"
      ]
    },
    {
      "cell_type": "code",
      "execution_count": null,
      "metadata": {
        "colab": {
          "base_uri": "https://localhost:8080/"
        },
        "id": "lN_ldC7_3Kr5",
        "outputId": "4d4e0e75-da1f-44e5-ba59-6edc890789fc"
      },
      "outputs": [
        {
          "name": "stdout",
          "output_type": "stream",
          "text": [
            "How many hours you worked: 170\n",
            "Impossible to work more than 168 hours weekly\n"
          ]
        }
      ],
      "source": [
        "#task 10\n",
        "\n",
        "hours_worked = int(input('How many hours you worked: '))\n",
        "\n",
        "if 0 <= hours_worked <= 168:\n",
        "\n",
        "  if hours_worked <= 40:\n",
        "    salary = hours_worked * 200\n",
        "  \n",
        "  elif hours_worked > 40:\n",
        "    salary = 8000 + (hours_worked -40)*300\n",
        "\n",
        "  print(salary)\n",
        "\n",
        "elif hours_worked < 0:\n",
        "  print('Hours cannot be negative')\n",
        "\n",
        "elif hours_worked>168:\n",
        "  print('Impossible to work more than 168 hours weekly')"
      ]
    },
    {
      "cell_type": "code",
      "execution_count": null,
      "metadata": {
        "colab": {
          "base_uri": "https://localhost:8080/"
        },
        "id": "CJf4AEWR68oJ",
        "outputId": "636d833e-a9e8-4208-8090-8803176a1328"
      },
      "outputs": [
        {
          "name": "stdout",
          "output_type": "stream",
          "text": [
            "Enter the vale of S: 3\n",
            "1875\n"
          ]
        }
      ],
      "source": [
        "#task 11\n",
        "\n",
        "s = int(input('Enter the vale of S: '))\n",
        "\n",
        "if s<100:\n",
        "  l = 3000 - (125* (s**2))\n",
        "\n",
        "else:\n",
        "  l = 12000 / (4 + ((s**2)/14900))\n",
        "\n",
        "print(l)"
      ]
    },
    {
      "cell_type": "code",
      "execution_count": null,
      "metadata": {
        "colab": {
          "base_uri": "https://localhost:8080/"
        },
        "id": "6jeQZ3uH74Py",
        "outputId": "25c1e1da-acb5-422f-fa5a-e0e04a9ae1a0"
      },
      "outputs": [
        {
          "name": "stdout",
          "output_type": "stream",
          "text": [
            "What time is it now? 27\n",
            "Wrong time\n"
          ]
        }
      ],
      "source": [
        "#task 12\n",
        "\n",
        "current_time = int(input('What time is it now? '))\n",
        "\n",
        "if 0<= current_time <= 23:\n",
        "\n",
        "  if 4 <=current_time<= 6:\n",
        "    print('Breakfast')\n",
        "\n",
        "  elif 12<=current_time<=13:\n",
        "    print('Lunch')\n",
        "\n",
        "  elif 16<=current_time<=17:\n",
        "    print('Snacks')\n",
        "\n",
        "  elif 19<=current_time<=20:\n",
        "    print('Dinner')\n",
        "\n",
        "  else:\n",
        "    print('Patience is a virtue')\n",
        "\n",
        "else:\n",
        "  print('Wrong time')"
      ]
    },
    {
      "cell_type": "code",
      "execution_count": null,
      "metadata": {
        "colab": {
          "base_uri": "https://localhost:8080/"
        },
        "id": "buEUHD379Tts",
        "outputId": "8f51f53c-b446-433b-ad82-1c8d6d8240d9"
      },
      "outputs": [
        {
          "name": "stdout",
          "output_type": "stream",
          "text": [
            "Enter the student's marks: 49\n",
            "Your marks are 49 & so the grade is F\n"
          ]
        }
      ],
      "source": [
        "#task 13\n",
        "\n",
        "marks = int(input(\"Enter the student's marks: \"))\n",
        "\n",
        "if 0<= marks < 100:\n",
        "\n",
        "  if marks>=90:\n",
        "    print('Your marks are', marks, '& so the grade is A')\n",
        "\n",
        "  elif 80<=marks<=89:\n",
        "    print('Your marks are', marks, '& so the grade is B')\n",
        "  \n",
        "  elif 70<=marks<=79:\n",
        "    print('Your marks are', marks, '& so the grade is C')\n",
        "\n",
        "  elif 60<=marks<=69:\n",
        "    print('Your marks are', marks, '& so the grade is D')\n",
        "\n",
        "  elif 50<= marks<= 59:\n",
        "    print('Your marks are', marks, '& so the grade is E')\n",
        "  \n",
        "  else:\n",
        "    print('Your marks are', marks, '& so the grade is F')\n",
        "\n",
        "else:\n",
        "  print('Invalid value of marks')"
      ]
    },
    {
      "cell_type": "code",
      "execution_count": null,
      "metadata": {
        "colab": {
          "base_uri": "https://localhost:8080/"
        },
        "id": "K3j73djN-2Af",
        "outputId": "d5042b5f-7148-4abf-80e3-a8315023bb2f"
      },
      "outputs": [
        {
          "name": "stdout",
          "output_type": "stream",
          "text": [
            "Enter distance in meters: 25400\n",
            "Enter time in seconds: 3600\n",
            "25.4 km/h\n",
            "Too slow. Needs more changes.\n"
          ]
        }
      ],
      "source": [
        "#task 14\n",
        "\n",
        "dist = int(input('Enter distance in meters: '))\n",
        "\n",
        "time = int(input('Enter time in seconds: '))\n",
        "\n",
        "velocity = (dist/time) * 3.6\n",
        "\n",
        "print(velocity, 'km/h')\n",
        "\n",
        "if velocity < 60:\n",
        "  print('Too slow. Needs more changes.')\n",
        "\n",
        "elif 60<=velocity<=90:\n",
        "  print('Velocity is okay. The car is ready!')\n",
        "\n",
        "elif velocity >90:\n",
        "  print('Velocity is okay. The car is ready!')"
      ]
    },
    {
      "cell_type": "code",
      "execution_count": null,
      "metadata": {
        "colab": {
          "base_uri": "https://localhost:8080/"
        },
        "id": "fBMmQKvXAYS4",
        "outputId": "9e31414e-0a79-4a2f-fe25-d9cde62484dc"
      },
      "outputs": [
        {
          "name": "stdout",
          "output_type": "stream",
          "text": [
            "Enter the CGPA: 3.79\n",
            "How many credits has the student completed? 24\n",
            "The student is not eligible for a waiver\n"
          ]
        }
      ],
      "source": [
        "#task 15\n",
        "\n",
        "cg = float(input('Enter the CGPA: '))\n",
        "\n",
        "creds = int(input('How many credits has the student completed? '))\n",
        "\n",
        "if creds>=30 and cg>=3.8:\n",
        "  if 3.8<=cg<=3.89:\n",
        "    print('The student is eligible for a waiver of 25 percent.')\n",
        "\n",
        "  elif 3.9<=cg<3.94:\n",
        "    print('The student is eligible for a waiver of 50 percent.')\n",
        "\n",
        "  elif 3.94<=cg<=3.99:\n",
        "    print('The student is eligible for a waiver of 75 percent.')\n",
        "\n",
        "  elif cg == 4:\n",
        "    print('The student is eligible for a waiver of 100 percent.')\n",
        "\n",
        "else:\n",
        "  print('The student is not eligible for a waiver')"
      ]
    },
    {
      "cell_type": "code",
      "execution_count": null,
      "metadata": {
        "colab": {
          "base_uri": "https://localhost:8080/"
        },
        "id": "0NlCnrbGCM74",
        "outputId": "072ac0a6-1281-4285-a700-7c091b6c909b"
      },
      "outputs": [
        {
          "name": "stdout",
          "output_type": "stream",
          "text": [
            "Enter a number: 15\n",
            "No\n"
          ]
        }
      ],
      "source": [
        "#task 20\n",
        "\n",
        "num = int(input('Enter a number: '))\n",
        "\n",
        "if num%2==0 or num%5==0:\n",
        "  print('No')\n",
        "\n",
        "else:\n",
        "  print(num)"
      ]
    }
  ],
  "metadata": {
    "colab": {
      "provenance": []
    },
    "kernelspec": {
      "display_name": "Python 3",
      "name": "python3"
    },
    "language_info": {
      "name": "python"
    }
  },
  "nbformat": 4,
  "nbformat_minor": 0
}
