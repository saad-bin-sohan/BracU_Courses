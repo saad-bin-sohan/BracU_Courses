{
  "cells": [
    {
      "cell_type": "code",
      "execution_count": null,
      "metadata": {
        "colab": {
          "base_uri": "https://localhost:8080/"
        },
        "id": "B08ELoFmGWfk",
        "outputId": "b3155e36-ab0c-4658-abbd-3c93e6bbee55"
      },
      "outputs": [
        {
          "name": "stdout",
          "output_type": "stream",
          "text": [
            "24 , 18 , 12 , 6 , 0 , -6\n"
          ]
        }
      ],
      "source": [
        "#task 1(a) using for loop\n",
        "\n",
        "for i in range(24, -7, -6):\n",
        "\n",
        "  if i == -6:\n",
        "    print(i)\n",
        "\n",
        "  else:\n",
        "    print(i, ', ', end='')"
      ]
    },
    {
      "cell_type": "code",
      "execution_count": null,
      "metadata": {
        "colab": {
          "base_uri": "https://localhost:8080/"
        },
        "id": "S053zk7DGrx6",
        "outputId": "e3c52b70-a58c-4bc0-ea14-73d2b342ecc3"
      },
      "outputs": [
        {
          "name": "stdout",
          "output_type": "stream",
          "text": [
            "24 , 18 , 12 , 6 , 0 , -6\n"
          ]
        }
      ],
      "source": [
        "#task 1(a) using while loop\n",
        "\n",
        "i = 24\n",
        "\n",
        "while i > -7:\n",
        "\n",
        "  if i==-6:\n",
        "    print(i)\n",
        "  \n",
        "  else:\n",
        "    print(i, ', ', end='')\n",
        "\n",
        "  i -= 6"
      ]
    },
    {
      "cell_type": "code",
      "execution_count": null,
      "metadata": {
        "colab": {
          "base_uri": "https://localhost:8080/"
        },
        "id": "_StQrRaJHUME",
        "outputId": "1f0cb29d-c5ae-4946-b5fc-435d05bae572"
      },
      "outputs": [
        {
          "name": "stdout",
          "output_type": "stream",
          "text": [
            "-10 , -5 , 0 , 5 , 10 , 15 , 20\n"
          ]
        }
      ],
      "source": [
        "#task 1(b) using for loop \n",
        "\n",
        "for i in range(-10, 21, 5):\n",
        "  if i == 20:\n",
        "    print(i)\n",
        "\n",
        "  else:\n",
        "    print(i, ', ', end='')"
      ]
    },
    {
      "cell_type": "code",
      "execution_count": null,
      "metadata": {
        "colab": {
          "base_uri": "https://localhost:8080/"
        },
        "id": "7f_L8waqHoJw",
        "outputId": "700881a6-3675-4006-87fb-2ac0bb53508c"
      },
      "outputs": [
        {
          "name": "stdout",
          "output_type": "stream",
          "text": [
            "-10 , -5 , 0 , 5 , 10 , 15 , 20\n"
          ]
        }
      ],
      "source": [
        "#task 1(b) using while loop\n",
        "\n",
        "i = -10\n",
        "\n",
        "while i<21:\n",
        "\n",
        "  if i == 20:\n",
        "    print(i)\n",
        "  else:\n",
        "    print(i, ', ', end='')\n",
        "\n",
        "  i += 5"
      ]
    },
    {
      "cell_type": "code",
      "execution_count": null,
      "metadata": {
        "colab": {
          "base_uri": "https://localhost:8080/"
        },
        "id": "ckPCcV3dH73m",
        "outputId": "b8a9cac8-67af-4543-c777-e2073f283d13"
      },
      "outputs": [
        {
          "name": "stdout",
          "output_type": "stream",
          "text": [
            "18 , 27 , 36 , 45 , 54 , 63\n"
          ]
        }
      ],
      "source": [
        "#task 1(c) using for loop\n",
        "\n",
        "for i in range(18, 64, 9):\n",
        "\n",
        "  if i == 63:\n",
        "    print(i)\n",
        "\n",
        "  else:\n",
        "    print(i, ', ', end='')"
      ]
    },
    {
      "cell_type": "code",
      "execution_count": null,
      "metadata": {
        "colab": {
          "base_uri": "https://localhost:8080/"
        },
        "id": "PPai4NrzIQq6",
        "outputId": "27b1e7e9-5cf2-4861-d2de-7c09b912446c"
      },
      "outputs": [
        {
          "name": "stdout",
          "output_type": "stream",
          "text": [
            "18 , 27 , 36 , 45 , 54 , 63\n"
          ]
        }
      ],
      "source": [
        "#task 1(c) using while loop\n",
        "\n",
        "i = 18\n",
        "\n",
        "while i<64:\n",
        "\n",
        "  if i ==63:\n",
        "    print(i)\n",
        "\n",
        "  else:\n",
        "    print(i, ', ', end='')\n",
        "\n",
        "  i += 9"
      ]
    },
    {
      "cell_type": "code",
      "execution_count": null,
      "metadata": {
        "colab": {
          "base_uri": "https://localhost:8080/"
        },
        "id": "TaYR_jdyIqMH",
        "outputId": "389a8858-637d-4a71-93c7-8ea01d4cdd37"
      },
      "outputs": [
        {
          "name": "stdout",
          "output_type": "stream",
          "text": [
            "18, -27, 36, -45, 54, -63\n"
          ]
        }
      ],
      "source": [
        "#task 1(d) using for loop\n",
        "\n",
        "counter = 0\n",
        "\n",
        "for i in range(18, 64, 9):\n",
        "\n",
        "  if counter%2==0:\n",
        "    print(str(i)+ ', ', end='')\n",
        "\n",
        "  elif i == 63:\n",
        "    print(-i)\n",
        "\n",
        "  else:\n",
        "    print(str(-i)+ ', ', end='')\n",
        "\n",
        "  counter += 1\n",
        "\n",
        "#joratali diye kaj shara lol"
      ]
    },
    {
      "cell_type": "code",
      "execution_count": null,
      "metadata": {
        "colab": {
          "base_uri": "https://localhost:8080/"
        },
        "id": "IfnQ4T1IJuvW",
        "outputId": "f02ebcb7-fed3-40e3-8506-95dea430a4fa"
      },
      "outputs": [
        {
          "name": "stdout",
          "output_type": "stream",
          "text": [
            "18 , -27 , 36 , -45 , 54 , -63\n"
          ]
        }
      ],
      "source": [
        "#task 1(d) using for loop efficiently\n",
        "\n",
        "for i in range(18, 64, 9):\n",
        "\n",
        "  if i%2==1:\n",
        "\n",
        "    if i ==63:\n",
        "      print(-i)\n",
        "\n",
        "    else:\n",
        "      print(-i, ', ', end='')\n",
        "\n",
        "  else:\n",
        "    print(i, ', ', end='')"
      ]
    },
    {
      "cell_type": "code",
      "execution_count": null,
      "metadata": {
        "colab": {
          "base_uri": "https://localhost:8080/"
        },
        "id": "dKUoi9jkKlz4",
        "outputId": "abb92695-d60e-429d-a3d0-25b82cbee5c7"
      },
      "outputs": [
        {
          "name": "stdout",
          "output_type": "stream",
          "text": [
            "18, -27 , 36, -45 , 54, -63\n"
          ]
        }
      ],
      "source": [
        "#task 1(d) using while loop\n",
        "\n",
        "starter = 18\n",
        "\n",
        "while starter < 64:\n",
        "\n",
        "  if starter == 63:\n",
        "    print(-starter)\n",
        "\n",
        "  elif starter%2==1:\n",
        "    print(-starter, ', ', end='')\n",
        "\n",
        "  else:\n",
        "    print(str(starter)+ ', ', end='')\n",
        "\n",
        "  starter += 9"
      ]
    },
    {
      "cell_type": "code",
      "execution_count": null,
      "metadata": {
        "colab": {
          "base_uri": "https://localhost:8080/"
        },
        "id": "c2A-WYfhLCEt",
        "outputId": "ad67e9bf-d978-4483-8255-87f0b58fe9a6"
      },
      "outputs": [
        {
          "name": "stdout",
          "output_type": "stream",
          "text": [
            "Enter your favourite car's name: Veyron\n",
            "How many times you wanna see that? 5\n",
            "Veyron\n",
            "Veyron\n",
            "Veyron\n",
            "Veyron\n",
            "Veyron\n"
          ]
        }
      ],
      "source": [
        "#task 2 using for loop\n",
        "\n",
        "car_name = input(\"Enter your favourite car's name: \")\n",
        "\n",
        "print_count = int(input('How many times you wanna see that? '))\n",
        "\n",
        "for i in range(print_count):\n",
        "\n",
        "  print(car_name)"
      ]
    },
    {
      "cell_type": "code",
      "execution_count": null,
      "metadata": {
        "colab": {
          "base_uri": "https://localhost:8080/"
        },
        "id": "MyUHORjAMO49",
        "outputId": "76ee2898-affd-4e68-da34-8c4e38dc94e8"
      },
      "outputs": [
        {
          "name": "stdout",
          "output_type": "stream",
          "text": [
            "Enter your fav car's name: Veyron\n",
            "How many times you wanna see ur fav car's name? 5\n",
            "Veyron\n",
            "Veyron\n",
            "Veyron\n",
            "Veyron\n",
            "Veyron\n"
          ]
        }
      ],
      "source": [
        "#task 2 using while loop\n",
        "\n",
        "car_name = input(\"Enter your fav car's name: \")\n",
        "counter = int(input(\"How many times you wanna see ur fav car's name? \"))\n",
        "\n",
        "starter = 0\n",
        "\n",
        "while starter < counter:\n",
        "  print(car_name)\n",
        "\n",
        "  starter += 1"
      ]
    },
    {
      "cell_type": "code",
      "execution_count": null,
      "metadata": {
        "colab": {
          "base_uri": "https://localhost:8080/"
        },
        "id": "STu99iUCM7Ns",
        "outputId": "eb08782a-c635-4786-f11c-9d777d857f09"
      },
      "outputs": [
        {
          "name": "stdout",
          "output_type": "stream",
          "text": [
            "2835\n"
          ]
        }
      ],
      "source": [
        "#task 3\n",
        "\n",
        "result = 0\n",
        "\n",
        "for i in range(63, 601):\n",
        "\n",
        "  if i%7==0 and i%9==0:\n",
        "    result += i\n",
        "\n",
        "print(result)"
      ]
    },
    {
      "cell_type": "code",
      "execution_count": null,
      "metadata": {
        "colab": {
          "base_uri": "https://localhost:8080/"
        },
        "id": "jf2V4qlJNhdF",
        "outputId": "670cad61-0393-4583-bfef-53c159ee9c7d"
      },
      "outputs": [
        {
          "name": "stdout",
          "output_type": "stream",
          "text": [
            "39814\n"
          ]
        }
      ],
      "source": [
        "#task 4 using for loop\n",
        "\n",
        "result = 0\n",
        "\n",
        "for i in range(7, 601):\n",
        "  \n",
        "  if i%7==0 and i%9!=0:\n",
        "    result += i\n",
        "\n",
        "  elif i%7!=0 and i%9==0:\n",
        "    result += i\n",
        "\n",
        "print(result)"
      ]
    },
    {
      "cell_type": "code",
      "execution_count": null,
      "metadata": {
        "colab": {
          "base_uri": "https://localhost:8080/"
        },
        "id": "PIZ_nV_fT-4Y",
        "outputId": "72836124-80cf-4da6-8eba-a890cde735df"
      },
      "outputs": [
        {
          "name": "stdout",
          "output_type": "stream",
          "text": [
            "39814\n"
          ]
        }
      ],
      "source": [
        "#task 4 using while loop\n",
        "\n",
        "result = 0\n",
        "\n",
        "starter = 7\n",
        "\n",
        "while starter < 601:\n",
        "\n",
        "  if starter%7==0 and starter%9!=0:\n",
        "    result += starter\n",
        "\n",
        "  elif starter%7!=0 and starter%9==0:\n",
        "    result += starter\n",
        "\n",
        "  starter += 1\n",
        "\n",
        "print(result)"
      ]
    },
    {
      "cell_type": "code",
      "execution_count": null,
      "metadata": {
        "colab": {
          "base_uri": "https://localhost:8080/"
        },
        "id": "e8rKOyZ6U88j",
        "outputId": "3a6c57a2-2f53-473c-bacb-f67705d18412"
      },
      "outputs": [
        {
          "name": "stdout",
          "output_type": "stream",
          "text": [
            "11 13 15 17 19 21 23 25 27 29 31 33 35 37 39 41 43 45 47 49 "
          ]
        }
      ],
      "source": [
        "#task 5 using for loop\n",
        "\n",
        "for i in range(10, 51):\n",
        "\n",
        "  if i%2==1:\n",
        "    print(i, end ='')\n",
        "    print(' ', end ='')"
      ]
    },
    {
      "cell_type": "code",
      "execution_count": null,
      "metadata": {
        "colab": {
          "base_uri": "https://localhost:8080/"
        },
        "id": "MS6JpmiWbXmu",
        "outputId": "2f5e5352-e1a2-4e9b-eceb-7bb98079c10f"
      },
      "outputs": [
        {
          "name": "stdout",
          "output_type": "stream",
          "text": [
            "11 13 15 17 19 21 23 25 27 29 31 33 35 37 39 41 43 45 47 49 "
          ]
        }
      ],
      "source": [
        "#task 5 using while loop\n",
        "\n",
        "starter = 10\n",
        "\n",
        "while starter<=50:\n",
        "\n",
        "  if starter%2==1:\n",
        "    print(starter, end ='')\n",
        "    print(' ', end='')\n",
        "\n",
        "  starter += 1"
      ]
    },
    {
      "cell_type": "code",
      "execution_count": null,
      "metadata": {
        "colab": {
          "base_uri": "https://localhost:8080/"
        },
        "id": "29wsUpnQVW6G",
        "outputId": "652a0d7c-48b4-44cc-91ef-dc16657e6730"
      },
      "outputs": [
        {
          "name": "stdout",
          "output_type": "stream",
          "text": [
            "Enter n: 20\n",
            "-210\n"
          ]
        }
      ],
      "source": [
        "#task 6 using for loop\n",
        "\n",
        "y = 0\n",
        "\n",
        "n = int(input('Enter n: '))\n",
        "\n",
        "for i in range(1, n+1):\n",
        "\n",
        "  if i%2==1:\n",
        "    y += (i**2)\n",
        "\n",
        "  else:\n",
        "    y -= (i**2)\n",
        "\n",
        "print(y)"
      ]
    },
    {
      "cell_type": "code",
      "execution_count": null,
      "metadata": {
        "colab": {
          "base_uri": "https://localhost:8080/"
        },
        "id": "4VcDUQiuYT33",
        "outputId": "da6686ae-bd49-4f66-ae25-066882834390"
      },
      "outputs": [
        {
          "name": "stdout",
          "output_type": "stream",
          "text": [
            "Enter n: 20\n",
            "-210\n"
          ]
        }
      ],
      "source": [
        "#task 6 using while loop\n",
        "\n",
        "n = int(input('Enter n: '))\n",
        "\n",
        "counter = 1\n",
        "y = 0\n",
        "\n",
        "while counter <= n:\n",
        "  if counter%2==0:\n",
        "    y -= (counter ** 2)\n",
        "\n",
        "  elif counter%2==1:\n",
        "    y += (counter ** 2)\n",
        "\n",
        "  counter += 1\n",
        "\n",
        "print(y)"
      ]
    },
    {
      "cell_type": "code",
      "execution_count": null,
      "metadata": {
        "colab": {
          "base_uri": "https://localhost:8080/"
        },
        "id": "ppIvDj8PWI5V",
        "outputId": "2232a23f-e8fd-4fe6-cbd2-074c501e181a"
      },
      "outputs": [
        {
          "name": "stdout",
          "output_type": "stream",
          "text": [
            "Enter a number: -20\n",
            "Enter a number: 13\n",
            "Enter a number: -5\n",
            "Enter a number: 40\n",
            "Enter a number: -17\n",
            "Enter a number: 10\n",
            "Enter a number: 20\n",
            "Enter a number: -8\n",
            "Enter a number: 99\n",
            "Enter a number: 200\n",
            "The total of the odd numbers is 90 and their average is 22.5\n"
          ]
        }
      ],
      "source": [
        "#task 7 usimg for loop\n",
        "\n",
        "total = 0\n",
        "count = 0\n",
        "\n",
        "for i in range(10):\n",
        "\n",
        "  n = int(input('Enter a number: '))\n",
        "\n",
        "  if n%2==1:\n",
        "    total += n\n",
        "    count += 1\n",
        "\n",
        "avg = total/count\n",
        "\n",
        "print('The total of the odd numbers is', total, 'and their average is', avg)"
      ]
    },
    {
      "cell_type": "code",
      "execution_count": null,
      "metadata": {
        "colab": {
          "base_uri": "https://localhost:8080/"
        },
        "id": "AvFYKX1sXQQ-",
        "outputId": "61a2b933-59ef-4227-a9be-eff3c5ee4a40"
      },
      "outputs": [
        {
          "name": "stdout",
          "output_type": "stream",
          "text": [
            "Enter n: 75\n",
            "385\n"
          ]
        }
      ],
      "source": [
        "#task 8 using for loop\n",
        "\n",
        "n = int(input('Enter n: '))\n",
        "\n",
        "sum = 0\n",
        "\n",
        "for i in range(1, n+1):\n",
        "\n",
        "  if i%7==0:\n",
        "    sum += i\n",
        "\n",
        "print(sum)"
      ]
    },
    {
      "cell_type": "code",
      "execution_count": null,
      "metadata": {
        "colab": {
          "base_uri": "https://localhost:8080/"
        },
        "id": "RyvozOWyYLS7",
        "outputId": "c65c9c93-653f-4c57-c89f-055724abda9b"
      },
      "outputs": [
        {
          "name": "stdout",
          "output_type": "stream",
          "text": [
            "Enter n: 75\n",
            "385\n"
          ]
        }
      ],
      "source": [
        "#task 8 using while loop\n",
        "\n",
        "starter = 1\n",
        "sum = 0\n",
        "\n",
        "n = int(input('Enter n: '))\n",
        "\n",
        "while starter<= n:\n",
        "\n",
        "  if starter % 7 ==0:\n",
        " \n",
        "    sum += starter\n",
        "\n",
        "  starter += 1\n",
        "\n",
        "print(sum)"
      ]
    },
    {
      "cell_type": "code",
      "execution_count": null,
      "metadata": {
        "colab": {
          "base_uri": "https://localhost:8080/"
        },
        "id": "GFNB77jScOBE",
        "outputId": "5dc73331-a9d5-48af-c8ba-ed559d53ed92"
      },
      "outputs": [
        {
          "name": "stdout",
          "output_type": "stream",
          "text": [
            "Enter n: 11\n",
            "11\n",
            "Enter n: -29\n",
            "-18\n",
            "Enter n: -3\n",
            "-21\n",
            "Enter n: 47\n",
            "26\n",
            "Enter n: 50\n",
            "76\n"
          ]
        }
      ],
      "source": [
        "#task 9 using for loop\n",
        "\n",
        "sum = 0\n",
        "\n",
        "for i in range(5):\n",
        "\n",
        "  n = int(input('Enter n: '))\n",
        "  sum += n\n",
        "  print(sum) "
      ]
    },
    {
      "cell_type": "code",
      "execution_count": null,
      "metadata": {
        "colab": {
          "base_uri": "https://localhost:8080/"
        },
        "id": "4_PmADyte4v5",
        "outputId": "8b40592c-394e-4fa0-bf9a-4cdf49b09454"
      },
      "outputs": [
        {
          "name": "stdout",
          "output_type": "stream",
          "text": [
            "Enter a number: 11\n",
            "11\n",
            "Enter a number: -29\n",
            "-18\n",
            "Enter a number: -3\n",
            "-21\n",
            "Enter a number: 47\n",
            "26\n",
            "Enter a number: 50\n",
            "76\n"
          ]
        }
      ],
      "source": [
        "#task 9 using while loop\n",
        "\n",
        "counter = 0\n",
        "sum = 0\n",
        "\n",
        "while counter !=5:\n",
        "\n",
        "  n = int(input('Enter a number: '))\n",
        "\n",
        "  sum += n\n",
        "\n",
        "  print(sum)\n",
        "\n",
        "  counter += 1"
      ]
    },
    {
      "cell_type": "code",
      "execution_count": null,
      "metadata": {
        "colab": {
          "base_uri": "https://localhost:8080/"
        },
        "id": "iOZu7joyftSd",
        "outputId": "73239228-9ba1-4bea-9651-a63426b80c86"
      },
      "outputs": [
        {
          "name": "stdout",
          "output_type": "stream",
          "text": [
            "Enter a numner: 32768\n",
            "5\n"
          ]
        }
      ],
      "source": [
        "#out of nowhere\n",
        "\n",
        "n = int(input('Enter a numner: '))\n",
        "\n",
        "num = n\n",
        "counted_length = 0\n",
        "\n",
        "while num != 0:\n",
        "  \n",
        "  counted_length += 1\n",
        "\n",
        "  num = num//10\n",
        "\n",
        "print(counted_length)\n"
      ]
    },
    {
      "cell_type": "code",
      "execution_count": null,
      "metadata": {
        "colab": {
          "base_uri": "https://localhost:8080/"
        },
        "id": "aBvAGikOloy-",
        "outputId": "5185ef31-fd19-4b3f-baf3-4470967e462c"
      },
      "outputs": [
        {
          "name": "stdout",
          "output_type": "stream",
          "text": [
            "Enter n: 32768\n",
            "8, 6, 7, 2, 3\n"
          ]
        }
      ],
      "source": [
        "#task 10 using while loop\n",
        "\n",
        "n = int(input('Enter n: '))\n",
        "\n",
        "while n>9:\n",
        "\n",
        "  print(n%10, end ='')\n",
        "  print(', ', end='')\n",
        "\n",
        "  n = n // 10\n",
        "\n",
        "print(n)"
      ]
    },
    {
      "cell_type": "code",
      "execution_count": null,
      "metadata": {
        "colab": {
          "base_uri": "https://localhost:8080/"
        },
        "id": "jhK7hsnWmyno",
        "outputId": "4066404f-12f0-46cb-c870-bac9c43669d0"
      },
      "outputs": [
        {
          "name": "stdout",
          "output_type": "stream",
          "text": [
            "Enter n: 9876\n",
            "4\n"
          ]
        }
      ],
      "source": [
        "#task 11 using while loop\n",
        "\n",
        "n = int(input('Enter n: '))\n",
        "\n",
        "length_counter = 0\n",
        "\n",
        "while n != 0:\n",
        "\n",
        "  length_counter += 1\n",
        "  n = n//10\n",
        "\n",
        "print(length_counter)"
      ]
    },
    {
      "cell_type": "code",
      "execution_count": null,
      "metadata": {
        "colab": {
          "base_uri": "https://localhost:8080/"
        },
        "id": "wrMh61XegPsc",
        "outputId": "cea5410f-907a-41a5-88ea-1c87089a8920"
      },
      "outputs": [
        {
          "name": "stdout",
          "output_type": "stream",
          "text": [
            "Enter n: 32768\n",
            "3, 2, 7, 6, 8\n"
          ]
        }
      ],
      "source": [
        "#task 12 using while loop\n",
        "\n",
        "n = int(input('Enter n: '))\n",
        "\n",
        "temp1 = n\n",
        "number_cutter = 0\n",
        "\n",
        "while temp1 != 0:\n",
        "  number_cutter += 1\n",
        "\n",
        "  temp1 = temp1//10\n",
        "\n",
        "while n > 9:\n",
        "\n",
        "  temp2 = n // (10**(number_cutter-1))\n",
        "\n",
        "  print(temp2, end='')\n",
        "  print(', ', end ='')\n",
        "\n",
        "  n = n % (10**(number_cutter -1))\n",
        "\n",
        "  number_cutter -= 1\n",
        "\n",
        "print(n)"
      ]
    },
    {
      "cell_type": "code",
      "execution_count": null,
      "metadata": {
        "colab": {
          "base_uri": "https://localhost:8080/"
        },
        "id": "YwPYxCQ1jYLb",
        "outputId": "4928b719-d862-4c92-f91a-100c25d1946c"
      },
      "outputs": [
        {
          "name": "stdout",
          "output_type": "stream",
          "text": [
            "Enter n: 121\n",
            "1\n",
            "11\n",
            "121\n",
            "Total 3 divisors.\n"
          ]
        }
      ],
      "source": [
        "#task 13 using for loop\n",
        "\n",
        "n = int(input('Enter n: '))\n",
        "\n",
        "div_count = 0\n",
        "\n",
        "for i in range(1, n+1):\n",
        "  if n%i==0:\n",
        "    print(i)\n",
        "\n",
        "    div_count += 1\n",
        "print('Total', div_count, 'divisors.')"
      ]
    },
    {
      "cell_type": "code",
      "execution_count": null,
      "metadata": {
        "colab": {
          "base_uri": "https://localhost:8080/"
        },
        "id": "U7g8VKyUkDa5",
        "outputId": "9ef28248-aca1-40ac-da7c-73c9edb74c88"
      },
      "outputs": [
        {
          "name": "stdout",
          "output_type": "stream",
          "text": [
            "Enter n: 121\n",
            "1\n",
            "11\n",
            "121\n",
            "Total 3 divisors.\n"
          ]
        }
      ],
      "source": [
        "#task 13 using while loop\n",
        "\n",
        "n = int(input('Enter n: '))\n",
        "\n",
        "i = 1\n",
        "div_count = 0\n",
        "\n",
        "while i != n+1:\n",
        "\n",
        "  if n%i==0:\n",
        "    print(i)\n",
        "\n",
        "    div_count += 1\n",
        "\n",
        "  i += 1\n",
        "\n",
        "print('Total', div_count, 'divisors.')"
      ]
    },
    {
      "cell_type": "code",
      "execution_count": null,
      "metadata": {
        "colab": {
          "base_uri": "https://localhost:8080/"
        },
        "id": "VwWTKOqvl2jU",
        "outputId": "4a6dbcd5-1647-44be-e7b6-73f2b41196c9"
      },
      "outputs": [
        {
          "name": "stdout",
          "output_type": "stream",
          "text": [
            "Enter a number to see if it's perfect: 28\n",
            "28 is a perfect number\n"
          ]
        }
      ],
      "source": [
        "#task 14 using for loop\n",
        "\n",
        "n = int(input(\"Enter a number to see if it's perfect: \"))\n",
        "\n",
        "sum = 0\n",
        "\n",
        "for i in range(1, n):\n",
        "\n",
        "  if n % i == 0:\n",
        "    sum += i\n",
        "\n",
        "if sum == n:\n",
        "\n",
        "  print(n, 'is a perfect number')\n",
        "\n",
        "else:\n",
        "  print(n, 'is not a perfect number.')"
      ]
    },
    {
      "cell_type": "code",
      "execution_count": null,
      "metadata": {
        "colab": {
          "base_uri": "https://localhost:8080/"
        },
        "id": "WCaFFFiSkgcJ",
        "outputId": "a2019fbf-f1fd-4909-99b3-523b82bac60b"
      },
      "outputs": [
        {
          "name": "stdout",
          "output_type": "stream",
          "text": [
            "Enter n: 33\n",
            "33 is not a perfect number.\n"
          ]
        }
      ],
      "source": [
        "#task 14 using while loop\n",
        "\n",
        "n = int(input('Enter n: '))\n",
        "\n",
        "i = 1\n",
        "sum = 0\n",
        "\n",
        "while i != n:\n",
        "\n",
        "  if n % i ==0:\n",
        "    sum += i\n",
        "\n",
        "  i += 1\n",
        "\n",
        "if sum == n:\n",
        "  print(n, 'is a perfect number.')\n",
        "\n",
        "else:\n",
        "\n",
        "  print(n, 'is not a perfect number.')"
      ]
    },
    {
      "cell_type": "code",
      "execution_count": null,
      "metadata": {
        "colab": {
          "base_uri": "https://localhost:8080/"
        },
        "id": "UAzoIxFfllcc",
        "outputId": "1759bb92-46d6-4ab6-fb66-fba07243fd1c"
      },
      "outputs": [
        {
          "name": "stdout",
          "output_type": "stream",
          "text": [
            "Enter n: 6\n",
            "6 is not a prime number\n"
          ]
        }
      ],
      "source": [
        "#task 15 using for loop\n",
        "\n",
        "n = int(input('Enter n: '))\n",
        "\n",
        "div_count = 0\n",
        "\n",
        "for i in range(1, n+1):\n",
        "  \n",
        "  if n % i ==0:\n",
        "    \n",
        "    div_count += 1\n",
        "\n",
        "if div_count == 2:\n",
        "\n",
        "  print(n, 'is a prime number')\n",
        "\n",
        "else:\n",
        "  print(n, 'is not a prime number')"
      ]
    },
    {
      "cell_type": "code",
      "execution_count": null,
      "metadata": {
        "colab": {
          "base_uri": "https://localhost:8080/"
        },
        "id": "cy4DjtzRnXkq",
        "outputId": "76163052-9474-4fee-fda3-0301abacf194"
      },
      "outputs": [
        {
          "name": "stdout",
          "output_type": "stream",
          "text": [
            "Enter a number: 6\n",
            "6 is not a prime number\n"
          ]
        }
      ],
      "source": [
        "#task 15 using while loop\n",
        "\n",
        "num = int(input('Enter a number: '))\n",
        "\n",
        "starter = 1\n",
        "div_count = 0\n",
        "\n",
        "while starter <= num:\n",
        "  if num%starter==0:\n",
        "    div_count += 1\n",
        "\n",
        "  starter += 1\n",
        "\n",
        "if div_count == 2:\n",
        "  print(num, 'is a prime number.')\n",
        "\n",
        "else:\n",
        "  print(num, \"is not a prime number\")"
      ]
    },
    {
      "cell_type": "code",
      "execution_count": null,
      "metadata": {
        "colab": {
          "base_uri": "https://localhost:8080/"
        },
        "id": "6M2GysyfYMIe",
        "outputId": "4b9e586f-e44b-41c7-b5e0-db8a11ec1897"
      },
      "outputs": [
        {
          "name": "stdout",
          "output_type": "stream",
          "text": [
            "How many numbers you got? 5\n",
            "Enter a number: 10\n",
            "Enter a number: 4\n",
            "Enter a number: -1\n",
            "Enter a number: -100\n",
            "Enter a number: 1\n",
            "Maximum 10\n",
            "Minimum -100\n",
            "Average -17.2\n"
          ]
        }
      ],
      "source": [
        "#task 16 using for loop\n",
        "\n",
        "num_count = int(input('How many numbers you got? '))\n",
        "\n",
        "n = int(input('Enter a number: '))\n",
        "\n",
        "max = n\n",
        "min = n\n",
        "sum = n\n",
        "\n",
        "for i in range(1, num_count):\n",
        "\n",
        "  n = int(input('Enter a number: '))\n",
        "\n",
        "  sum += n\n",
        "\n",
        "  if n > max:\n",
        "    max = n\n",
        "\n",
        "  elif n < min:\n",
        "    min = n\n",
        "\n",
        "\n",
        "print('Maximum', max)\n",
        "print('Minimum', min)\n",
        "print('Average', sum/num_count)"
      ]
    },
    {
      "cell_type": "code",
      "execution_count": null,
      "metadata": {
        "colab": {
          "base_uri": "https://localhost:8080/"
        },
        "id": "_puWcmADcNTP",
        "outputId": "504b56db-ff21-4bd7-e959-4fc3ac00f07e"
      },
      "outputs": [
        {
          "name": "stdout",
          "output_type": "stream",
          "text": [
            "How many numbers you got? 5\n",
            "Enter a number: 10\n",
            "Enter a number: 4\n",
            "Enter a number: -1\n",
            "Enter a number: -100\n",
            "Enter a number: 1\n",
            "Maximum 10\n",
            "Minimum -100\n",
            "Average -17.2\n"
          ]
        }
      ],
      "source": [
        "#task 16 using while loop\n",
        "\n",
        "num_count = int(input('How many numbers you got? '))\n",
        "\n",
        "n = int(input('Enter a number: '))\n",
        "\n",
        "max = n\n",
        "min = n\n",
        "sum = n\n",
        "starter = 1\n",
        "\n",
        "while starter< num_count :\n",
        "\n",
        "  n = int(input('Enter a number: '))\n",
        "\n",
        "  sum += n\n",
        "\n",
        "  if n > max:\n",
        "    max = n\n",
        "\n",
        "  elif n < min:\n",
        "    min = n\n",
        "\n",
        "  starter += 1\n",
        "\n",
        "print('Maximum', max)\n",
        "print('Minimum', min)\n",
        "print('Average', sum/num_count)"
      ]
    },
    {
      "cell_type": "code",
      "execution_count": null,
      "metadata": {
        "colab": {
          "base_uri": "https://localhost:8080/"
        },
        "id": "TTyDCt8rdwZn",
        "outputId": "bcbe849e-7174-4c46-dcca-352c278cf150"
      },
      "outputs": [
        {
          "name": "stdout",
          "output_type": "stream",
          "text": [
            "Enter n: 5\n",
            "+++++\n",
            "+++++\n",
            "+++++\n",
            "+++++\n",
            "+++++\n"
          ]
        }
      ],
      "source": [
        "#task 17\n",
        "\n",
        "n = int(input('Enter n: '))\n",
        "\n",
        "for row_count in range(n):\n",
        "\n",
        "  for column_count in range(n):\n",
        "\n",
        "    print('+', end='')\n",
        "\n",
        "  print()"
      ]
    },
    {
      "cell_type": "code",
      "execution_count": null,
      "metadata": {
        "colab": {
          "base_uri": "https://localhost:8080/"
        },
        "id": "1e7Lu9N4fWXm",
        "outputId": "a17e153e-bc7d-4c68-eb8a-3f82ae305ec3"
      },
      "outputs": [
        {
          "name": "stdout",
          "output_type": "stream",
          "text": [
            "Enter m: 4\n",
            "Enter n: 6\n",
            "123456\n",
            "123456\n",
            "123456\n",
            "123456\n"
          ]
        }
      ],
      "source": [
        "#task 18\n",
        "\n",
        "m = int(input('Enter m: '))\n",
        "n = int(input('Enter n: '))\n",
        "\n",
        "for row_count in range(m):\n",
        "\n",
        "  for column_count in range(n):\n",
        "\n",
        "    print(column_count+1, end = '')\n",
        "\n",
        "  print()"
      ]
    },
    {
      "cell_type": "code",
      "execution_count": null,
      "metadata": {
        "colab": {
          "base_uri": "https://localhost:8080/"
        },
        "id": "scAUI-aPf-5U",
        "outputId": "e6f712d7-1cdc-46dc-ca62-3beea8bd953c"
      },
      "outputs": [
        {
          "name": "stdout",
          "output_type": "stream",
          "text": [
            "Enter N: 5\n",
            "1\n",
            "12\n",
            "123\n",
            "1234\n",
            "12345\n"
          ]
        }
      ],
      "source": [
        "#task 19\n",
        "\n",
        "n =int(input('Enter N: '))\n",
        "\n",
        "for row_count in range(n):\n",
        "\n",
        "  for column_count in range(row_count +1):\n",
        "\n",
        "    print(column_count + 1, end = '')\n",
        "\n",
        "  print()"
      ]
    },
    {
      "cell_type": "code",
      "execution_count": null,
      "metadata": {
        "colab": {
          "base_uri": "https://localhost:8080/"
        },
        "id": "n3s0Ooxqh_RR",
        "outputId": "ff8bb777-4162-4d61-d048-52d37bc06327"
      },
      "outputs": [
        {
          "name": "stdout",
          "output_type": "stream",
          "text": [
            "where you wanna stop? 15\n",
            "0 1 1 1 2 3 5 8 13 "
          ]
        }
      ],
      "source": [
        "#task 25 using while loop\n",
        "\n",
        "num = int(input('where you wanna stop? '))\n",
        "\n",
        "m = 0\n",
        "n = 1\n",
        "\n",
        "sum = m + n\n",
        "\n",
        "print(m, n, end = ' ')\n",
        "\n",
        "\n",
        "while sum <= num:\n",
        "\n",
        "  print(sum, end =' ')\n",
        "\n",
        "  sum = m + n\n",
        "\n",
        "  m = n\n",
        "\n",
        "  n = sum"
      ]
    },
    {
      "cell_type": "code",
      "execution_count": null,
      "metadata": {
        "colab": {
          "base_uri": "https://localhost:8080/"
        },
        "id": "AOoXGMNltV40",
        "outputId": "ed0264df-bd4c-402a-ceff-9368a2a6ae82"
      },
      "outputs": [
        {
          "name": "stdout",
          "output_type": "stream",
          "text": [
            "Enter a decimal number to convert into binary number: 13\n",
            "1101\n"
          ]
        }
      ],
      "source": [
        "#task 26\n",
        "\n",
        "num = int(input('Enter a decimal number to convert into binary number: '))\n",
        "\n",
        "reversed_binary_num = ''\n",
        "\n",
        "while num >= 1:   #confusion 1\n",
        "  \n",
        "  temp1 = num % 2\n",
        "\n",
        "  if temp1 == 0:\n",
        "\n",
        "    reversed_binary_num += '0'\n",
        "\n",
        "  else:\n",
        "\n",
        "    reversed_binary_num += '1'\n",
        "\n",
        "  num = num // 2\n",
        "\n",
        "binary_num = ''\n",
        "\n",
        "for i in range(-1, -len(reversed_binary_num)-1, -1):\n",
        "\n",
        "  binary_num += reversed_binary_num[i]\n",
        "\n",
        "print(binary_num)"
      ]
    },
    {
      "cell_type": "code",
      "execution_count": null,
      "metadata": {
        "colab": {
          "base_uri": "https://localhost:8080/"
        },
        "id": "M5oXSzqyN12F",
        "outputId": "dd4a118f-d543-4ea0-9ec3-422549603328"
      },
      "outputs": [
        {
          "name": "stdout",
          "output_type": "stream",
          "text": [
            "Enter a binary number to be converted to decimal: 1101\n",
            "13\n"
          ]
        }
      ],
      "source": [
        "#task 27 \n",
        "\n",
        "binary_val = input('Enter a binary number to be converted to decimal: ')\n",
        "\n",
        "power = 0\n",
        "dec_val = 0\n",
        "\n",
        "for position in range(-1, -len(binary_val)-1, -1):\n",
        "\n",
        "  dec_digit = int( binary_val[position] )  * (2**(power))\n",
        "\n",
        "  power += 1\n",
        "\n",
        "  dec_val += dec_digit\n",
        "\n",
        "print(dec_val)"
      ]
    },
    {
      "cell_type": "code",
      "execution_count": null,
      "metadata": {
        "colab": {
          "base_uri": "https://localhost:8080/"
        },
        "id": "6dDzbP44M2e0",
        "outputId": "e68f183f-1bcb-4f8c-a1cf-d7f2556d8126"
      },
      "outputs": [
        {
          "name": "stdout",
          "output_type": "stream",
          "text": [
            "Enter the starting value: 2\n",
            "Enter the ending value: 6\n",
            "Between 2 and 6\n",
            "Found 3 prime numbers\n",
            "Found 1 perfect numbers\n",
            "Prime numbers: 2, 3, 5\n",
            "Perfect numbers: 6\n"
          ]
        }
      ],
      "source": [
        "#task 28\n",
        "\n",
        "starter = int(input('Enter the starting value: '))\n",
        "ender = int(input('Enter the ending value: '))\n",
        "\n",
        "prime_num_list = []\n",
        "perf_num_list = []\n",
        "\n",
        "for i1 in range(starter, ender+1):\n",
        "\n",
        "  div_count = 0\n",
        "  sum_4_perf = 0\n",
        "  new_li = []\n",
        "\n",
        "  for i2 in range(1, i1 +1):\n",
        "\n",
        "    if i1 % i2==0:\n",
        "      div_count += 1\n",
        "\n",
        "  if div_count == 2:\n",
        "    prime_num_list.append(i1)\n",
        "\n",
        "  for i5 in range(1, i1):\n",
        "    if i1 % i5 == 0 :\n",
        "      sum_4_perf += i5\n",
        "\n",
        "  if sum_4_perf == i1:\n",
        "    perf_num_list.append(i1)\n",
        "\n",
        "print('Between', starter, 'and', ender)\n",
        "print('Found', len(prime_num_list), 'prime numbers')\n",
        "print('Found', len(perf_num_list), 'perfect numbers')\n",
        "print('Prime numbers: ', end = '')\n",
        "\n",
        "for i3 in range(len(prime_num_list)):\n",
        "\n",
        "  if i3 +1 == len(prime_num_list):\n",
        "    print(prime_num_list[i3])\n",
        "\n",
        "  else:\n",
        "    print(prime_num_list[i3], end= ', ')\n",
        "\n",
        "print('Perfect numbers: ', end = '')\n",
        "\n",
        "for i4 in range(len(perf_num_list)):\n",
        "\n",
        "  if i4 +1 != len(perf_num_list):\n",
        "    print(perf_num_list[i4], end=', ')\n",
        "\n",
        "  else:\n",
        "    print(perf_num_list[i4])"
      ]
    },
    {
      "cell_type": "code",
      "execution_count": null,
      "metadata": {
        "colab": {
          "base_uri": "https://localhost:8080/"
        },
        "id": "Z5kA6O9vUt-8",
        "outputId": "a6777813-4529-4806-95c6-c9b5da8e45ce"
      },
      "outputs": [
        {
          "name": "stdout",
          "output_type": "stream",
          "text": [
            "Enter the starting number: 351\n",
            "Enter the ending value: 356\n",
            "Enter a checker number: 9\n",
            "45 90 "
          ]
        }
      ],
      "source": [
        "#task 29\n",
        "\n",
        "starter = int(input('Enter the starting number: '))\n",
        "ender = int(input('Enter the ending value: '))\n",
        "\n",
        "product_list = []\n",
        "\n",
        "while starter <= ender:\n",
        "  \n",
        "  product = 1\n",
        "\n",
        "  for i1 in str(starter):\n",
        "\n",
        "    product = product* int(i1)\n",
        "\n",
        "  product_list.append(product)\n",
        "  \n",
        "  starter += 1\n",
        "\n",
        "checker = int(input('Enter a checker number: '))\n",
        "\n",
        "for i2 in product_list:\n",
        "  if i2 % checker==0:\n",
        "    print(i2, end = ' ')"
      ]
    }
  ],
  "metadata": {
    "colab": {
      "provenance": []
    },
    "kernelspec": {
      "display_name": "Python 3",
      "name": "python3"
    },
    "language_info": {
      "name": "python"
    }
  },
  "nbformat": 4,
  "nbformat_minor": 0
}
