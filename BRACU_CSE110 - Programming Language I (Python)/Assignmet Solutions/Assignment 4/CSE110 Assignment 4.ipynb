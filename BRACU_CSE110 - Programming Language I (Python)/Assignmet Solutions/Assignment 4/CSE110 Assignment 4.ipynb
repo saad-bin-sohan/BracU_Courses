{
  "cells": [
    {
      "cell_type": "code",
      "execution_count": null,
      "metadata": {
        "colab": {
          "base_uri": "https://localhost:8080/"
        },
        "id": "CszVWBGrn6n2",
        "outputId": "5060e4b6-9d22-458a-d23b-e7b1030e6d3b"
      },
      "outputs": [
        {
          "name": "stdout",
          "output_type": "stream",
          "text": [
            "Enter the string: 1576527\n",
            "7256751"
          ]
        }
      ],
      "source": [
        "#task 1\n",
        "\n",
        "inp_string = input('Enter the string: ')\n",
        "\n",
        "for i in range(-1, -len(inp_string)-1, -1):\n",
        "  print(inp_string[i], end='')"
      ]
    },
    {
      "cell_type": "code",
      "execution_count": null,
      "metadata": {
        "colab": {
          "base_uri": "https://localhost:8080/"
        },
        "id": "0pwUpCyjoozB",
        "outputId": "3458c1fb-6659-4cfc-a190-d420638d3cf3"
      },
      "outputs": [
        {
          "name": "stdout",
          "output_type": "stream",
          "text": [
            "Enter the string: aBcd1234defg\n",
            "From where you wanna cut? 5\n",
            "21dcBa34defg"
          ]
        }
      ],
      "source": [
        "#task 2\n",
        "\n",
        "str1 = input('Enter the string: ')\n",
        "ind = int(input('From where you wanna cut? '))\n",
        "\n",
        "for i in range(ind, -1, -1):\n",
        "  print(str1[i], end='')\n",
        "\n",
        "if ind != len(str1):\n",
        "  for i2 in range(ind+1, len(str1)):\n",
        "    print(str1[i2], end='')"
      ]
    },
    {
      "cell_type": "code",
      "execution_count": null,
      "metadata": {
        "colab": {
          "base_uri": "https://localhost:8080/"
        },
        "id": "8pYYn_JbqZgQ",
        "outputId": "9daff1d3-00ef-445e-87a2-a6aa848cf150"
      },
      "outputs": [
        {
          "name": "stdout",
          "output_type": "stream",
          "text": [
            "Enter your binary number: Binary Number\n",
            "Not a Binary number\n"
          ]
        }
      ],
      "source": [
        "#task 3\n",
        "\n",
        "str1 = input('Enter your binary number: ')\n",
        "\n",
        "det = ''\n",
        "\n",
        "for num in str1:\n",
        "  if num == '1' or num == '0':\n",
        "    det += 'T'\n",
        "  else:\n",
        "    det += 'F'\n",
        "\n",
        "if 'F' in det:\n",
        "  print('Not a Binary number')\n",
        "else:\n",
        "  print('Binary Number')"
      ]
    },
    {
      "cell_type": "code",
      "execution_count": null,
      "metadata": {
        "colab": {
          "base_uri": "https://localhost:8080/"
        },
        "id": "J6x3nz0HriB3",
        "outputId": "68845844-08c4-4cac-e7c0-fd0c35e410b2"
      },
      "outputs": [
        {
          "name": "stdout",
          "output_type": "stream",
          "text": [
            "Enter your binary number: 12344ab0\n",
            "Not a binary number\n",
            "Binary number\n"
          ]
        }
      ],
      "source": [
        "#task 3 needs correction\n",
        "\n",
        "str1 = input('Enter your binary number: ')\n",
        "\n",
        "det = None\n",
        "\n",
        "for num in str1:\n",
        "  if num!= '1' and num != '0':\n",
        "    print('Not a binary number')\n",
        "    break\n",
        "  elif num != str1[-1]:\n",
        "    det = None\n",
        "  else:\n",
        "    det = True\n",
        "\n",
        "if det== True:\n",
        "  print('Binary number')"
      ]
    },
    {
      "cell_type": "code",
      "execution_count": null,
      "metadata": {
        "colab": {
          "base_uri": "https://localhost:8080/"
        },
        "id": "ldAVa_BHtGKy",
        "outputId": "4accc095-c5ff-4615-c021-32743d56aef7"
      },
      "outputs": [
        {
          "name": "stdout",
          "output_type": "stream",
          "text": [
            "Enter your string: ber\n",
            "best\n"
          ]
        }
      ],
      "source": [
        "#task 4\n",
        "\n",
        "#needs review from st\n",
        "\n",
        "word = input('Enter your string: ')\n",
        "\n",
        "if len(word)>1:\n",
        "  if ( word[-2] + word[-1] ) == 'er':\n",
        "    word = word[:len(word)-2:] + 'est'\n",
        "\n",
        "  elif len(word) > 2:\n",
        "    \n",
        "    if ( word[-3] + word[-2] + word[-1] ) == 'est':\n",
        "      pass\n",
        "\n",
        "    #elif len(word) <4:\n",
        "     # pass\n",
        "\n",
        "    elif len(word) > 3:\n",
        "      word = word + 'er'\n",
        "print(word)"
      ]
    },
    {
      "cell_type": "code",
      "execution_count": null,
      "metadata": {
        "colab": {
          "base_uri": "https://localhost:8080/"
        },
        "id": "7cxT1M4gl-Gt",
        "outputId": "7ec39792-0d42-446b-e263-07a5c76c360d"
      },
      "outputs": [
        {
          "name": "stdout",
          "output_type": "stream",
          "text": [
            "Enter your word: DREAM\n",
            "D\n",
            "DR\n",
            "DRE\n",
            "DREA\n",
            "DREAM\n"
          ]
        }
      ],
      "source": [
        "#task 5\n",
        "\n",
        "word = input('Enter your word: ')\n",
        "\n",
        "for cutter in range(len(word)):\n",
        "  print(word[:cutter+1:])"
      ]
    },
    {
      "cell_type": "code",
      "execution_count": null,
      "metadata": {
        "colab": {
          "base_uri": "https://localhost:8080/"
        },
        "id": "lRkkWGaHq-4x",
        "outputId": "624b9166-ba10-4c5b-8882-b35384cdfad7"
      },
      "outputs": [
        {
          "name": "stdout",
          "output_type": "stream",
          "text": [
            "Enter your word: hunger\n",
            "h : 104\n",
            "u : 117\n",
            "n : 110\n",
            "g : 103\n",
            "e : 101\n",
            "r : 114\n"
          ]
        }
      ],
      "source": [
        "#task 6\n",
        "\n",
        "word = input('Enter your word: ')\n",
        "\n",
        "for char in word:\n",
        "  print(char, ':', ord(char))"
      ]
    },
    {
      "cell_type": "code",
      "execution_count": null,
      "metadata": {
        "colab": {
          "base_uri": "https://localhost:8080/"
        },
        "id": "_m-QfP2lrnz8",
        "outputId": "6373c8cc-d1c4-4df9-e596-67230c4d0cb1"
      },
      "outputs": [
        {
          "name": "stdout",
          "output_type": "stream",
          "text": [
            "Enter your word: xyzabc\n",
            "yzabcd"
          ]
        }
      ],
      "source": [
        "#task 7\n",
        "\n",
        "word = input('Enter your word: ')\n",
        "\n",
        "for char in word:\n",
        "\n",
        "  if char == 'z':\n",
        "    print('a', end='')\n",
        "\n",
        "  else:\n",
        "    print( chr(ord(char) + 1), end='' )"
      ]
    },
    {
      "cell_type": "code",
      "execution_count": null,
      "metadata": {
        "colab": {
          "base_uri": "https://localhost:8080/"
        },
        "id": "biAZqiB-MXTg",
        "outputId": "22710453-3a21-455c-da0c-a7f61eeb676c"
      },
      "outputs": [
        {
          "name": "stdout",
          "output_type": "stream",
          "text": [
            "Enter your string: ab3#cd\n",
            "B#D"
          ]
        }
      ],
      "source": [
        "#task 8\n",
        "\n",
        "word = input('Enter your string: ')\n",
        "\n",
        "for i in range(len(word)):\n",
        "\n",
        "  if i%2==1:\n",
        "\n",
        "    if  97 <= ord(word[i]) <= 122:\n",
        "      \n",
        "      print( chr( ord(word[i]) -32 )  , end='')\n",
        "\n",
        "    elif 65 <= ord(word[i]) <= 90:\n",
        "      print(word[i], end='')\n",
        "\n",
        "    else:\n",
        "      print(word[i], end='')"
      ]
    },
    {
      "cell_type": "code",
      "execution_count": null,
      "metadata": {
        "colab": {
          "base_uri": "https://localhost:8080/"
        },
        "id": "X6k2GQpwNxe0",
        "outputId": "9aedae3e-6951-4767-9673-bbdc199b6b66"
      },
      "outputs": [
        {
          "name": "stdout",
          "output_type": "stream",
          "text": [
            "Enter a string: Jupyter Notebook is better. Case sensitivity check AAaaaAaaAAAa.\n",
            "Jupyter Notebok is beter. Case sensitivity check AaAaAa.\n"
          ]
        }
      ],
      "source": [
        "#task 9\n",
        "\n",
        "word = input('Enter a string: ')\n",
        "\n",
        "final_string = word[0]\n",
        "\n",
        "for x in word:\n",
        "\n",
        "  if x != final_string[-1]:\n",
        "    final_string += x\n",
        "\n",
        "print(final_string)"
      ]
    },
    {
      "cell_type": "code",
      "execution_count": null,
      "metadata": {
        "colab": {
          "base_uri": "https://localhost:8080/"
        },
        "id": "9y0gTaFgS6ha",
        "outputId": "6a2e3018-38ae-4385-c800-b236dd985236"
      },
      "outputs": [
        {
          "name": "stdout",
          "output_type": "stream",
          "text": [
            "Enter 2 comma separated words: ijkl, ABCDENDFGH\n",
            "iAjBkClDENDFGH\n"
          ]
        }
      ],
      "source": [
        "#task 10\n",
        "\n",
        "words = input('Enter 2 comma separated words: ')\n",
        "\n",
        "word1, word2 = words.split(', ')\n",
        "\n",
        "final_word = ''\n",
        "\n",
        "if len(word1) > len(word2):\n",
        "\n",
        "  usable_range = len(word2)\n",
        "  ender = word1\n",
        "\n",
        "elif len(word1) < len(word2):\n",
        "  usable_range = len(word1)\n",
        "  ender = word2\n",
        "\n",
        "else:\n",
        "  usable_range = len(word1)\n",
        "  ender = ''\n",
        "\n",
        "for i1 in range(usable_range):\n",
        "\n",
        "  final_word += word1[i1] + word2[i1]\n",
        "  k = i1\n",
        "\n",
        "if ender != '':\n",
        "  final_word += ender[k+1::]\n",
        "\n",
        "print(final_word)"
      ]
    },
    {
      "cell_type": "code",
      "execution_count": null,
      "metadata": {
        "colab": {
          "base_uri": "https://localhost:8080/"
        },
        "id": "mapXpRXAZPgQ",
        "outputId": "2584541c-7a67-4265-81c8-9ddc1bde1764"
      },
      "outputs": [
        {
          "name": "stdout",
          "output_type": "stream",
          "text": [
            "Enter your word: hi\n",
            "Character u dont wanna see: a\n",
            "hi\n"
          ]
        }
      ],
      "source": [
        "#task 16\n",
        "\n",
        "word = input('Enter your word: ')\n",
        "remover = input('Character u dont wanna see: ')\n",
        "\n",
        "if remover in word:\n",
        "\n",
        "  for char in word:\n",
        "\n",
        "    if char != remover:\n",
        "      print(char, end='')\n",
        "\n",
        "elif ( remover not in word ) and ( len(word) > 3 ):\n",
        "  word = word[1:len(word)-1:]\n",
        "  print(word)\n",
        "\n",
        "else:\n",
        "  print(word)"
      ]
    },
    {
      "cell_type": "code",
      "execution_count": null,
      "metadata": {
        "colab": {
          "base_uri": "https://localhost:8080/"
        },
        "id": "Pu3pjT5Vbfwf",
        "outputId": "cb43c55d-3937-491f-b37c-6d75d10f9214"
      },
      "outputs": [
        {
          "name": "stdout",
          "output_type": "stream",
          "text": [
            "Enter a word: tom@gmail,harry@yahoo,bob@gmail,mary@gmail\n",
            "Enter the separator: ,\n",
            "tom@gmail\n",
            "tom@gmail\n",
            "harry@yahoo\n",
            "bob@gmail\n",
            "bob@gmail\n",
            "mary@gmail\n"
          ]
        }
      ],
      "source": [
        "#task 17\n",
        "\n",
        "word = input('Enter a word: ')\n",
        "\n",
        "substring_list = []\n",
        "new_word = ''\n",
        "\n",
        "separator = input('Enter the separator: ')\n",
        "\n",
        "'''\n",
        "for x in word:\n",
        "  if x == separator:\n",
        "    new_list = []\n",
        "    sublist_holder.append(new_list)\n",
        "\n",
        "sublist_holder.append(new_list)\n",
        "'''\n",
        "\n",
        "for char in word:\n",
        "\n",
        "  if char!= separator:\n",
        "    new_word += char\n",
        "\n",
        "    if char== word[-1]:\n",
        "      substring_list.append(new_word)\n",
        "\n",
        "  else:\n",
        "    substring_list.append(new_word)\n",
        "    new_word = ''\n",
        "\n",
        "for elem in substring_list:\n",
        "  print(elem)"
      ]
    },
    {
      "cell_type": "code",
      "execution_count": null,
      "metadata": {
        "colab": {
          "base_uri": "https://localhost:8080/"
        },
        "id": "g34iKwRrdaAk",
        "outputId": "45a49b68-5a1f-47fe-e125-588b071ac7b4"
      },
      "outputs": [
        {
          "name": "stdout",
          "output_type": "stream",
          "text": [
            "Enter a word: CSE110\n",
            "Enter a number: 3\n",
            "CSE110CSE110CSE110CSE110CSE110CSE110CSE110CSE110CSE110"
          ]
        }
      ],
      "source": [
        "#task 18\n",
        "\n",
        "word = input('Enter a word: ')\n",
        "num = int(input('Enter a number: '))\n",
        "\n",
        "if num%2==0:\n",
        "  for i in range(2*num):\n",
        "    print(word, end='')\n",
        "\n",
        "else:\n",
        "  for i in range(3*num):\n",
        "    print(word, end= '')"
      ]
    },
    {
      "cell_type": "code",
      "execution_count": null,
      "metadata": {
        "colab": {
          "base_uri": "https://localhost:8080/"
        },
        "id": "oahy7034gf5X",
        "outputId": "3944599e-1e51-48de-b480-6a82c647578d"
      },
      "outputs": [
        {
          "name": "stdout",
          "output_type": "stream",
          "text": [
            "yes\n"
          ]
        }
      ],
      "source": [
        "if 'CSE110CSE110CSE110CSE110CSE110CSE110CSE110CSE110CSE110' == 'CSE110CSE110CSE110CSE110CSE110CSE110CSE110CSE110CSE110':\n",
        "  print('yes')"
      ]
    },
    {
      "cell_type": "code",
      "execution_count": null,
      "metadata": {
        "colab": {
          "base_uri": "https://localhost:8080/"
        },
        "id": "QuFvdeoWgrYU",
        "outputId": "64274536-e70b-46db-f44e-74f38d66bbae"
      },
      "outputs": [
        {
          "name": "stdout",
          "output_type": "stream",
          "text": [
            "Enter a word: I       lOvE        pYtHoN        pRoGrAmMiNg\n",
            "I       LoVe        PyThOn        PrOgRaMmInG"
          ]
        }
      ],
      "source": [
        "#task 19 gone wrong\n",
        "\n",
        "'''\n",
        "\n",
        "word = input('Enter a word: ')\n",
        "\n",
        "for i in range(len(word)):\n",
        "\n",
        "  if i%2 == 0:\n",
        "\n",
        "    if 97 <= ord(word[i]) <= 122:\n",
        "      print(chr(ord(word[i])-32), end='')\n",
        "\n",
        "    elif 65 <= ord(word[i]) <= 90:\n",
        "      print(word[i], end='')\n",
        "\n",
        "    else:\n",
        "      print(word[i], end='')\n",
        "\n",
        "  else:\n",
        "    \n",
        "    if 97 <= ord(word[i]) <= 122:\n",
        "      print((word[i]), end='')\n",
        "    elif 65 <= ord(word[i]) <= 90:\n",
        "      print(chr(ord(word[i])+32), end='')\n",
        "    else:\n",
        "      print(word[i], end ='')\n",
        "\n",
        "'''\n",
        "\n",
        "#misunderstood the task lol\n"
      ]
    },
    {
      "cell_type": "code",
      "execution_count": null,
      "metadata": {
        "colab": {
          "base_uri": "https://localhost:8080/"
        },
        "id": "LzwOk89ujn4g",
        "outputId": "60913505-f90e-45bd-8d82-3f7e63c59481"
      },
      "outputs": [
        {
          "name": "stdout",
          "output_type": "stream",
          "text": [
            "Enter a word: CSE110 Course\n",
            "CsE110 cOuRsE"
          ]
        }
      ],
      "source": [
        "#task 19\n",
        "\n",
        "last_char = ''\n",
        "word = input('Enter a word: ')\n",
        "\n",
        "if 97 <= ord( word[0] ) <=122:\n",
        "  print( chr( ord( word[0]) - 32 ) , end='')\n",
        "  last_char = 'capital'\n",
        "\n",
        "elif 65 <= ord(word[0]) <= 90:\n",
        "  print(word[0], end='')\n",
        "  last_char = 'capital'\n",
        "\n",
        "else:\n",
        "  print(word[0])\n",
        "\n",
        "if len(word) >1:\n",
        "  word = word[1::]\n",
        "\n",
        "  for char in word:\n",
        "\n",
        "    if last_char == 'capital':\n",
        "      if 97 <= ord(char) <= 122 :\n",
        "        print(char, end='')\n",
        "        last_char = 'small'\n",
        "      elif ( 65 <= ord(char) <= 90 ):\n",
        "        print( chr(ord(char)+32) , end='')\n",
        "        last_char = 'small'\n",
        "      \n",
        "      else:\n",
        "        print(char, end='')\n",
        "\n",
        "    elif last_char == 'small':\n",
        "      \n",
        "      if 97 <= ord(char) <= 122 :\n",
        "        print(chr(ord(char)-32), end='')\n",
        "        last_char = 'capital'\n",
        "      elif ( 65 <= ord(char) <= 90 ):\n",
        "        print( char, end='')\n",
        "        last_char = 'capital'\n",
        "      else:\n",
        "        print(char, end='')"
      ]
    }
  ],
  "metadata": {
    "colab": {
      "provenance": []
    },
    "kernelspec": {
      "display_name": "Python 3",
      "name": "python3"
    },
    "language_info": {
      "name": "python"
    }
  },
  "nbformat": 4,
  "nbformat_minor": 0
}
